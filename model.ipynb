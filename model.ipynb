{
 "cells": [
  {
   "cell_type": "code",
   "execution_count": 2,
   "metadata": {},
   "outputs": [
    {
     "data": {
      "text/plain": [
       "'2.5.1+cu124'"
      ]
     },
     "execution_count": 2,
     "metadata": {},
     "output_type": "execute_result"
    }
   ],
   "source": [
    "import torch\n",
    "from torch import nn # neural network\n",
    "import matplotlib.pyplot as plt\n",
    "import numpy as np\n",
    "torch.__version__\n"
   ]
  },
  {
   "cell_type": "markdown",
   "metadata": {},
   "source": [
    "## Pytorch workflow\n",
    "\n",
    "### 1. Data (prepare and load)\n",
    "### 2. Model (build)\n",
    "### 3: Fitting the model to data (training)\n",
    "### 4. Making predictions and evaluating a model (inference)\n",
    "### 5. Saving and loading a model\n",
    "### 6. Putting it all together    \n",
    "\n",
    "\n"
   ]
  },
  {
   "cell_type": "markdown",
   "metadata": {},
   "source": [
    "## 1. Data (prepare and load) \n",
    "* excel spreadsheet\n",
    "* Images\n",
    "* Audio, video, DNA, text...\n",
    "* --> GET DATA INTO NUMERICAL REPRESENTATION\n",
    "* --> BUILD A MODEL TO LEARN PATTERNS IN DATA\n"
   ]
  },
  {
   "cell_type": "markdown",
   "metadata": {},
   "source": [
    "### Linear regression"
   ]
  },
  {
   "cell_type": "code",
   "execution_count": 3,
   "metadata": {},
   "outputs": [
    {
     "data": {
      "text/plain": [
       "(tensor([[0.0000],\n",
       "         [0.0200],\n",
       "         [0.0400],\n",
       "         [0.0600],\n",
       "         [0.0800],\n",
       "         [0.1000],\n",
       "         [0.1200],\n",
       "         [0.1400],\n",
       "         [0.1600],\n",
       "         [0.1800]]),\n",
       " tensor([[0.5000],\n",
       "         [0.5160],\n",
       "         [0.5320],\n",
       "         [0.5480],\n",
       "         [0.5640],\n",
       "         [0.5800],\n",
       "         [0.5960],\n",
       "         [0.6120],\n",
       "         [0.6280],\n",
       "         [0.6440]]))"
      ]
     },
     "execution_count": 3,
     "metadata": {},
     "output_type": "execute_result"
    }
   ],
   "source": [
    "weight = 0.8\n",
    "bias = 0.5\n",
    "\n",
    "start = 0\n",
    "end = 1 \n",
    "step = 0.02\n",
    "X = torch.arange(start, end, step).unsqueeze(dim=1)\n",
    "y = weight * X + bias\n",
    "X[:10], y[:10]\n",
    "\n",
    "\n"
   ]
  },
  {
   "cell_type": "markdown",
   "metadata": {},
   "source": [
    "## Spitting data into training and testing sets"
   ]
  },
  {
   "cell_type": "code",
   "execution_count": 4,
   "metadata": {},
   "outputs": [
    {
     "name": "stdout",
     "output_type": "stream",
     "text": [
      "Train split: 40\n"
     ]
    },
    {
     "data": {
      "text/plain": [
       "(40, 40, 10, 10)"
      ]
     },
     "execution_count": 4,
     "metadata": {},
     "output_type": "execute_result"
    }
   ],
   "source": [
    "train_split = int(0.8 * len(X))\n",
    "print(f\"Train split: {train_split}\")\n",
    "X_train, y_train = X[:train_split], y[:train_split]\n",
    "X_test, y_test = X[train_split:], y[train_split:]\n",
    "\n",
    "len(X_train), len(y_train), len(X_test), len(y_test)\n",
    "\n"
   ]
  },
  {
   "cell_type": "markdown",
   "metadata": {},
   "source": [
    "### Data visualisation"
   ]
  },
  {
   "cell_type": "code",
   "execution_count": 5,
   "metadata": {},
   "outputs": [],
   "source": [
    "def plot_predictions(train_data=X_train,\n",
    "                     train_labels=y_train,\n",
    "                     test_data=X_test,\n",
    "                     test_labels=y_test,\n",
    "                     predictions=None):\n",
    "    plt.figure(figsize=(10,7))\n",
    "    # plot training data in blue\n",
    "    plt.scatter(train_data, train_labels, c='b', s=4, label='Training data')\n",
    "    # plot test data in green\n",
    "    plt.scatter(test_data, test_labels, c='g', s=4, label='Testing data')\n",
    "    # plot predictions in red\n",
    "    if predictions is not None:\n",
    "        plt.scatter(test_data, predictions, c='r', s=4, label='Predictions')\n",
    "    plt.legend(prop={'size': 14})\n",
    "    plt.show()\n",
    "\n"
   ]
  },
  {
   "cell_type": "code",
   "execution_count": 6,
   "metadata": {},
   "outputs": [
    {
     "data": {
      "image/png": "[encoded data removed]",
      "text/plain": [
       "<Figure size 1000x700 with 1 Axes>"
      ]
     },
     "metadata": {},
     "output_type": "display_data"
    }
   ],
   "source": [
    "plot_predictions(); "
   ]
  },
  {
   "cell_type": "markdown",
   "metadata": {},
   "source": [
    "## Build model\n",
    "### Linear regression model class"
   ]
  },
  {
   "cell_type": "code",
   "execution_count": 7,
   "metadata": {},
   "outputs": [
    {
     "data": {
      "text/plain": [
       "OrderedDict([('weights', tensor([0.3367])), ('bias', tensor([0.1288]))])"
      ]
     },
     "execution_count": 7,
     "metadata": {},
     "output_type": "execute_result"
    }
   ],
   "source": [
    "from torch import nn\n",
    "\n",
    "class LinearRegressionModel(nn.Module):\n",
    "    def __init__(self):\n",
    "        super().__init__()\n",
    "        self.weights = nn.Parameter(torch.randn(1, \n",
    "                                                requires_grad=True, \n",
    "                                                dtype=torch.float),\n",
    "                                   )\n",
    "        self.bias = nn.Parameter(torch.randn(1, \n",
    "                                            requires_grad=True, \n",
    "                                            dtype=torch.float),\n",
    "                                )\n",
    "        \n",
    "    def forward(self, x: torch.Tensor) -> torch.Tensor:\n",
    "        return self.weights * x + self.bias\n",
    "    \n",
    "torch.manual_seed(42)\n",
    "model_0 = LinearRegressionModel()\n",
    "model_0.state_dict()"
   ]
  },
  {
   "cell_type": "markdown",
   "metadata": {},
   "source": [
    "### What the model is doing: \n",
    "* Start with random values (weight and bias)\n",
    "* Look at training data and adjust the random guess (weight and bias) to better represent the data\n",
    "* We want to improve the model over time\n",
    "* 2 main methods: Gradient descent and backpropagation"
   ]
  },
  {
   "cell_type": "markdown",
   "metadata": {},
   "source": [
    "### Pytorch model building essentials\n",
    "* torch.nn - contains all of the building blocks for computational graphs (a neural network can be considered a computational graph)\n",
    "* torch.nn.Parameter - what parameters should our model try and learn, often a Pytorch layer will set these for us\n",
    "* torch.nn.Module - The base class for all neural network modules, if you subclass it, you should override forward()\n",
    "* torch.optim - this is where the optimizers in Pytorch are defined\n",
    "* def forward() - All nn.Module subclasses require you to override forward(), this method defines the computation in the model\n"
   ]
  },
  {
   "cell_type": "markdown",
   "metadata": {},
   "source": [
    "### Checking the contents of our Pytorch model"
   ]
  },
  {
   "cell_type": "code",
   "execution_count": 8,
   "metadata": {},
   "outputs": [
    {
     "name": "stdout",
     "output_type": "stream",
     "text": [
      "---> to check model parameters: list(model_0.parameters())\n",
      "[Parameter containing:\n",
      "tensor([-1.2061], requires_grad=True), Parameter containing:\n",
      "tensor([0.0617], requires_grad=True)]\n",
      "---> to check model forward method: model_0.forward(torch.tensor([0.0]))\n",
      "tensor([0.0617], grad_fn=<AddBackward0>)\n",
      "---> to check model parameters: list(model_0.parameters())\n",
      "[Parameter containing:\n",
      "tensor([-1.2061], requires_grad=True), Parameter containing:\n",
      "tensor([0.0617], requires_grad=True)]\n",
      "---> to list named parameters: model_0_state_dict\n",
      "OrderedDict({'weights': tensor([-1.2061]), 'bias': tensor([0.0617])})\n"
     ]
    }
   ],
   "source": [
    "import torch\n",
    "\n",
    "torch.manual_seed(20)\n",
    "model_0 = LinearRegressionModel()\n",
    "\n",
    "print('---> to check model parameters: list(model_0.parameters())')\n",
    "print(list(model_0.parameters()))\n",
    "\n",
    "print('---> to check model forward method: model_0.forward(torch.tensor([0.0]))')\n",
    "print(model_0.forward(torch.tensor([0.0])))\n",
    "\n",
    "print('---> to check model parameters: list(model_0.parameters())')\n",
    "print(list(model_0.parameters()))\n",
    "\n",
    "print('---> to list named parameters: model_0_state_dict')\n",
    "model_0_state_dict = model_0.state_dict()\n",
    "print(model_0_state_dict)\n"
   ]
  },
  {
   "cell_type": "markdown",
   "metadata": {},
   "source": [
    "### The aim is to get closer to the true values of weight and bias\n"
   ]
  },
  {
   "cell_type": "code",
   "execution_count": 9,
   "metadata": {},
   "outputs": [
    {
     "name": "stdout",
     "output_type": "stream",
     "text": [
      "Parameter containing:\n",
      "tensor([-1.2061], requires_grad=True) Parameter containing:\n",
      "tensor([0.0617], requires_grad=True)\n",
      "---> should be approaching: weight: 0.8, bias: 0.5\n"
     ]
    }
   ],
   "source": [
    "print(list(model_0.parameters())[0], list(model_0.parameters())[1])\n",
    "print('---> should be approaching: weight: 0.8, bias: 0.5')\n"
   ]
  },
  {
   "cell_type": "markdown",
   "metadata": {},
   "source": [
    "### Predictions with torch.inference_mode()"
   ]
  },
  {
   "cell_type": "code",
   "execution_count": 10,
   "metadata": {},
   "outputs": [
    {
     "name": "stdout",
     "output_type": "stream",
     "text": [
      "---> to check predictions: y_preds\n",
      "tensor([[-0.9032],\n",
      "        [-0.9273],\n",
      "        [-0.9514],\n",
      "        [-0.9756],\n",
      "        [-0.9997],\n",
      "        [-1.0238],\n",
      "        [-1.0479],\n",
      "        [-1.0720],\n",
      "        [-1.0962],\n",
      "        [-1.1203]])\n",
      "---> to be compared with: y_test\n",
      "tensor([[1.1400],\n",
      "        [1.1560],\n",
      "        [1.1720],\n",
      "        [1.1880],\n",
      "        [1.2040],\n",
      "        [1.2200],\n",
      "        [1.2360],\n",
      "        [1.2520],\n",
      "        [1.2680],\n",
      "        [1.2840]])\n"
     ]
    }
   ],
   "source": [
    "with torch.inference_mode():\n",
    "    y_preds = model_0(X_test)\n",
    "\n",
    "print('---> to check predictions: y_preds')\n",
    "print(y_preds)\n",
    "print('---> to be compared with: y_test')\n",
    "print(y_test)\n",
    "\n",
    "\n"
   ]
  },
  {
   "cell_type": "code",
   "execution_count": 11,
   "metadata": {},
   "outputs": [
    {
     "data": {
      "image/png": "[encoded data removed]",
      "text/plain": [
       "<Figure size 1000x700 with 1 Axes>"
      ]
     },
     "metadata": {},
     "output_type": "display_data"
    }
   ],
   "source": [
    "plot_predictions(predictions=y_preds)"
   ]
  },
  {
   "cell_type": "markdown",
   "metadata": {},
   "source": [
    "## Train model\n",
    "### The aim is to move from unknown parameters to known parameters, \n",
    "### Need to measure how well the model is doing with loss function = cost function = criterion"
   ]
  },
  {
   "cell_type": "code",
   "execution_count": 12,
   "metadata": {},
   "outputs": [
    {
     "data": {
      "text/plain": [
       "[Parameter containing:\n",
       " tensor([-1.2061], requires_grad=True),\n",
       " Parameter containing:\n",
       " tensor([0.0617], requires_grad=True)]"
      ]
     },
     "execution_count": 12,
     "metadata": {},
     "output_type": "execute_result"
    }
   ],
   "source": [
    "list(model_0.parameters())\n"
   ]
  },
  {
   "cell_type": "code",
   "execution_count": 13,
   "metadata": {},
   "outputs": [
    {
     "data": {
      "text/plain": [
       "OrderedDict([('weights', tensor([-1.2061])), ('bias', tensor([0.0617]))])"
      ]
     },
     "execution_count": 13,
     "metadata": {},
     "output_type": "execute_result"
    }
   ],
   "source": [
    "model_0.state_dict()"
   ]
  },
  {
   "cell_type": "markdown",
   "metadata": {},
   "source": [
    "### For Pytorch, we need to set up a loss function and optimizer\n",
    "* Loss function - how wrong the model is\n",
    "* Optimizer - how the model is updated based on the data it sees and its loss function\n",
    "\n",
    "### Need to set up: \n",
    "* Training loop\n",
    "* Testing loop\n",
    "\n"
   ]
  },
  {
   "cell_type": "markdown",
   "metadata": {},
   "source": [
    "### Set up a loss function"
   ]
  },
  {
   "cell_type": "code",
   "execution_count": 14,
   "metadata": {},
   "outputs": [],
   "source": [
    "loss_fn = nn.L1Loss() \n",
    "\n",
    "### Set up an optimizer\n",
    "# stochastic gradient descent: a parameter is the value that the model sets itself\n",
    "optimizer = torch.optim.SGD(params=model_0.parameters(), # stochastic gradient descent\n",
    "                            lr=0.01) # learning rate\n",
    "\n",
    "\n"
   ]
  },
  {
   "cell_type": "markdown",
   "metadata": {},
   "source": [
    "### What we need for a training loop\n",
    "* Loop through the data\n",
    "* Forward pass: involves data moving through the model's forward() function = forward propagation\n",
    "* Calculate the loss = compare forward pass prediction to ground truth labels \n",
    "* Optimizer zero grad\n",
    "* Loss backward = Backpropagation: move backwards through the network to calculate the gradient of each of the parameters of our model with respect to the loss \n",
    "* Optimizer step = Gradient descent: used to adjust our model's parameters to try and improve the loss\n",
    "\n",
    "\n",
    "\n"
   ]
  },
  {
   "cell_type": "code",
   "execution_count": 17,
   "metadata": {},
   "outputs": [
    {
     "name": "stdout",
     "output_type": "stream",
     "text": [
      "tensor([[0.0000],\n",
      "        [0.0200],\n",
      "        [0.0400],\n",
      "        [0.0600],\n",
      "        [0.0800],\n",
      "        [0.1000],\n",
      "        [0.1200],\n",
      "        [0.1400],\n",
      "        [0.1600],\n",
      "        [0.1800],\n",
      "        [0.2000],\n",
      "        [0.2200],\n",
      "        [0.2400],\n",
      "        [0.2600],\n",
      "        [0.2800],\n",
      "        [0.3000],\n",
      "        [0.3200],\n",
      "        [0.3400],\n",
      "        [0.3600],\n",
      "        [0.3800],\n",
      "        [0.4000],\n",
      "        [0.4200],\n",
      "        [0.4400],\n",
      "        [0.4600],\n",
      "        [0.4800],\n",
      "        [0.5000],\n",
      "        [0.5200],\n",
      "        [0.5400],\n",
      "        [0.5600],\n",
      "        [0.5800],\n",
      "        [0.6000],\n",
      "        [0.6200],\n",
      "        [0.6400],\n",
      "        [0.6600],\n",
      "        [0.6800],\n",
      "        [0.7000],\n",
      "        [0.7200],\n",
      "        [0.7400],\n",
      "        [0.7600],\n",
      "        [0.7800]])\n",
      "tensor([[0.8000],\n",
      "        [0.8200],\n",
      "        [0.8400],\n",
      "        [0.8600],\n",
      "        [0.8800],\n",
      "        [0.9000],\n",
      "        [0.9200],\n",
      "        [0.9400],\n",
      "        [0.9600],\n",
      "        [0.9800]])\n"
     ]
    }
   ],
   "source": [
    "print(X_train)\n",
    "print(X_test)\n"
   ]
  },
  {
   "cell_type": "code",
   "execution_count": 327,
   "metadata": {},
   "outputs": [
    {
     "name": "stdout",
     "output_type": "stream",
     "text": [
      "Loss: 0.23629672825336456\n",
      "OrderedDict({'weights': tensor([-0.3749]), 'bias': tensor([0.9892])})\n"
     ]
    }
   ],
   "source": [
    "# Epochs = loops through the data\n",
    "epochs = 1000\n",
    "\n",
    "# Loop through the data\n",
    "for epoch in range(epochs):\n",
    "    model_0.train() # set the model to training mode\n",
    "    # 1. Forward pass\n",
    "    y_pred = model_0(X_train)\n",
    "\n",
    "    # 2. Calculate the loss\n",
    "    loss = loss_fn(y_pred, y_train) # (input, target)\n",
    "    print(f\"Loss: {loss}\")\n",
    "    # 3. Optimizer zero grad\n",
    "    optimizer.zero_grad()\n",
    "\n",
    "    # 4. Loss backward: backpropagation on the loss with respect to the parameters of the model\n",
    "    loss.backward()\n",
    "\n",
    "    # 5. Optimizer step: gradient descent on the parameters of the model\n",
    "    optimizer.step() # by default how the optimizer changes will accumulate through the loop, --> optimizer.zero_grad()\n",
    "\n",
    "    model_0.eval()\n",
    "\n",
    "    print(model_0.state_dict())\n"
   ]
  },
  {
   "cell_type": "code",
   "execution_count": 331,
   "metadata": {},
   "outputs": [
    {
     "data": {
      "text/plain": [
       "OrderedDict([('weights', tensor([-0.3749])), ('bias', tensor([0.9892]))])"
      ]
     },
     "execution_count": 331,
     "metadata": {},
     "output_type": "execute_result"
    }
   ],
   "source": [
    "model_0.state_dict()\n"
   ]
  },
  {
   "cell_type": "code",
   "execution_count": 332,
   "metadata": {},
   "outputs": [],
   "source": [
    "with torch.inference_mode():\n",
    "    y_preds_new = model_0(X_test)"
   ]
  },
  {
   "cell_type": "code",
   "execution_count": 334,
   "metadata": {},
   "outputs": [
    {
     "data": {
      "image/png": "[encoded data removed]",
      "text/plain": [
       "<Figure size 1000x700 with 1 Axes>"
      ]
     },
     "metadata": {},
     "output_type": "display_data"
    }
   ],
   "source": [
    "plot_predictions(predictions=y_preds)"
   ]
  },
  {
   "cell_type": "code",
   "execution_count": 333,
   "metadata": {},
   "outputs": [
    {
     "data": {
      "image/png": "[encoded data removed]",
      "text/plain": [
       "<Figure size 1000x700 with 1 Axes>"
      ]
     },
     "metadata": {},
     "output_type": "display_data"
    }
   ],
   "source": [
    "plot_predictions(predictions=y_preds_new)"
   ]
  }
 ],
 "metadata": {
  "kernelspec": {
   "display_name": "myenv",
   "language": "python",
   "name": "python3"
  },
  "language_info": {
   "codemirror_mode": {
    "name": "ipython",
    "version": 3
   },
   "file_extension": ".py",
   "mimetype": "text/x-python",
   "name": "python",
   "nbconvert_exporter": "python",
   "pygments_lexer": "ipython3",
   "version": "3.13.1"
  }
 },
 "nbformat": 4,
 "nbformat_minor": 2
}
