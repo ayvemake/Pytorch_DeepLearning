{
 "cells": [
  {
   "cell_type": "code",
   "execution_count": 1,
   "metadata": {},
   "outputs": [
    {
     "data": {
      "text/plain": [
       "'2.5.1+cu124'"
      ]
     },
     "execution_count": 1,
     "metadata": {},
     "output_type": "execute_result"
    }
   ],
   "source": [
    "import torch\n",
    "from torch import nn # neural network\n",
    "import matplotlib.pyplot as plt\n",
    "import numpy as np\n",
    "torch.__version__\n"
   ]
  },
  {
   "cell_type": "markdown",
   "metadata": {},
   "source": [
    "## Pytorch workflow\n",
    "\n",
    "### 1. Data (prepare and load)\n",
    "### 2. Model (build)\n",
    "### 3: Fitting the model to data (training)\n",
    "### 4. Making predictions and evaluating a model (inference)\n",
    "### 5. Saving and loading a model\n",
    "### 6. Putting it all together    \n",
    "\n",
    "\n"
   ]
  },
  {
   "cell_type": "markdown",
   "metadata": {},
   "source": [
    "## 1. Data (prepare and load) \n",
    "* excel spreadsheet\n",
    "* Images\n",
    "* Audio, video, DNA, text...\n",
    "* --> GET DATA INTO NUMERICAL REPRESENTATION\n",
    "* --> BUILD A MODEL TO LEARN PATTERNS IN DATA\n"
   ]
  },
  {
   "cell_type": "markdown",
   "metadata": {},
   "source": [
    "### Linear regression"
   ]
  },
  {
   "cell_type": "code",
   "execution_count": 2,
   "metadata": {},
   "outputs": [
    {
     "data": {
      "text/plain": [
       "(tensor([[0.0000],\n",
       "         [0.0200],\n",
       "         [0.0400],\n",
       "         [0.0600],\n",
       "         [0.0800],\n",
       "         [0.1000],\n",
       "         [0.1200],\n",
       "         [0.1400],\n",
       "         [0.1600],\n",
       "         [0.1800]]),\n",
       " tensor([[0.5000],\n",
       "         [0.5160],\n",
       "         [0.5320],\n",
       "         [0.5480],\n",
       "         [0.5640],\n",
       "         [0.5800],\n",
       "         [0.5960],\n",
       "         [0.6120],\n",
       "         [0.6280],\n",
       "         [0.6440]]))"
      ]
     },
     "execution_count": 2,
     "metadata": {},
     "output_type": "execute_result"
    }
   ],
   "source": [
    "weight = 0.8\n",
    "bias = 0.5\n",
    "\n",
    "start = 0\n",
    "end = 1 \n",
    "step = 0.02\n",
    "X = torch.arange(start, end, step).unsqueeze(dim=1)\n",
    "y = weight * X + bias\n",
    "X[:10], y[:10]\n",
    "\n",
    "\n"
   ]
  },
  {
   "cell_type": "markdown",
   "metadata": {},
   "source": [
    "## Spitting data into training and testing sets"
   ]
  },
  {
   "cell_type": "code",
   "execution_count": 3,
   "metadata": {},
   "outputs": [
    {
     "name": "stdout",
     "output_type": "stream",
     "text": [
      "Train split: 40\n"
     ]
    },
    {
     "data": {
      "text/plain": [
       "(40, 40, 10, 10)"
      ]
     },
     "execution_count": 3,
     "metadata": {},
     "output_type": "execute_result"
    }
   ],
   "source": [
    "train_split = int(0.8 * len(X))\n",
    "print(f\"Train split: {train_split}\")\n",
    "X_train, y_train = X[:train_split], y[:train_split]\n",
    "X_test, y_test = X[train_split:], y[train_split:]\n",
    "\n",
    "len(X_train), len(y_train), len(X_test), len(y_test)\n",
    "\n"
   ]
  },
  {
   "cell_type": "markdown",
   "metadata": {},
   "source": [
    "### Data visualisation"
   ]
  },
  {
   "cell_type": "code",
   "execution_count": 4,
   "metadata": {},
   "outputs": [],
   "source": [
    "def plot_predictions(train_data=X_train,\n",
    "                     train_labels=y_train,\n",
    "                     test_data=X_test,\n",
    "                     test_labels=y_test,\n",
    "                     predictions=None):\n",
    "    plt.figure(figsize=(10,7))\n",
    "    # plot training data in blue\n",
    "    plt.scatter(train_data, train_labels, c='b', s=4, label='Training data')\n",
    "    # plot test data in green\n",
    "    plt.scatter(test_data, test_labels, c='g', s=4, label='Testing data')\n",
    "    # plot predictions in red\n",
    "    if predictions is not None:\n",
    "        plt.scatter(test_data, predictions, c='r', s=4, label='Predictions')\n",
    "    plt.legend(prop={'size': 14})\n",
    "    plt.show()\n",
    "\n"
   ]
  },
  {
   "cell_type": "code",
   "execution_count": 5,
   "metadata": {},
   "outputs": [
    {
     "data": {
      "image/png": "[encoded data removed]",
      "text/plain": [
       "<Figure size 1000x700 with 1 Axes>"
      ]
     },
     "metadata": {},
     "output_type": "display_data"
    }
   ],
   "source": [
    "plot_predictions(); "
   ]
  },
  {
   "cell_type": "markdown",
   "metadata": {},
   "source": [
    "## Build model\n",
    "### Linear regression model class"
   ]
  },
  {
   "cell_type": "code",
   "execution_count": 6,
   "metadata": {},
   "outputs": [
    {
     "data": {
      "text/plain": [
       "OrderedDict([('weights', tensor([0.3367])), ('bias', tensor([0.1288]))])"
      ]
     },
     "execution_count": 6,
     "metadata": {},
     "output_type": "execute_result"
    }
   ],
   "source": [
    "from torch import nn\n",
    "\n",
    "class LinearRegressionModel(nn.Module):\n",
    "    def __init__(self):\n",
    "        super().__init__()\n",
    "        self.weights = nn.Parameter(torch.randn(1, \n",
    "                                                requires_grad=True, \n",
    "                                                dtype=torch.float),\n",
    "                                   )\n",
    "        self.bias = nn.Parameter(torch.randn(1, \n",
    "                                            requires_grad=True, \n",
    "                                            dtype=torch.float),\n",
    "                                )\n",
    "        \n",
    "    def forward(self, x: torch.Tensor) -> torch.Tensor:\n",
    "        return self.weights * x + self.bias\n",
    "    \n",
    "torch.manual_seed(42)\n",
    "model_0 = LinearRegressionModel()\n",
    "model_0.state_dict()"
   ]
  },
  {
   "cell_type": "markdown",
   "metadata": {},
   "source": [
    "### What the model is doing: \n",
    "* Start with random values (weight and bias)\n",
    "* Look at training data and adjust the random guess (weight and bias) to better represent the data\n",
    "* We want to improve the model over time\n",
    "* 2 main methods: Gradient descent and backpropagation"
   ]
  },
  {
   "cell_type": "markdown",
   "metadata": {},
   "source": [
    "### Pytorch model building essentials\n",
    "* torch.nn - contains all of the building blocks for computational graphs (a neural network can be considered a computational graph)\n",
    "* torch.nn.Parameter - what parameters should our model try and learn, often a Pytorch layer will set these for us\n",
    "* torch.nn.Module - The base class for all neural network modules, if you subclass it, you should override forward()\n",
    "* torch.optim - this is where the optimizers in Pytorch are defined\n",
    "* def forward() - All nn.Module subclasses require you to override forward(), this method defines the computation in the model\n"
   ]
  },
  {
   "cell_type": "markdown",
   "metadata": {},
   "source": [
    "### Checking the contents of our Pytorch model"
   ]
  },
  {
   "cell_type": "code",
   "execution_count": 7,
   "metadata": {},
   "outputs": [
    {
     "name": "stdout",
     "output_type": "stream",
     "text": [
      "---> to check model parameters: list(model_0.parameters())\n",
      "[Parameter containing:\n",
      "tensor([-1.2061], requires_grad=True), Parameter containing:\n",
      "tensor([0.0617], requires_grad=True)]\n",
      "---> to check model forward method: model_0.forward(torch.tensor([0.0]))\n",
      "tensor([0.0617], grad_fn=<AddBackward0>)\n",
      "---> to check model parameters: list(model_0.parameters())\n",
      "[Parameter containing:\n",
      "tensor([-1.2061], requires_grad=True), Parameter containing:\n",
      "tensor([0.0617], requires_grad=True)]\n",
      "---> to list named parameters: model_0_state_dict\n",
      "OrderedDict({'weights': tensor([-1.2061]), 'bias': tensor([0.0617])})\n"
     ]
    }
   ],
   "source": [
    "import torch\n",
    "\n",
    "torch.manual_seed(20)\n",
    "model_0 = LinearRegressionModel()\n",
    "\n",
    "print('---> to check model parameters: list(model_0.parameters())')\n",
    "print(list(model_0.parameters()))\n",
    "\n",
    "print('---> to check model forward method: model_0.forward(torch.tensor([0.0]))')\n",
    "print(model_0.forward(torch.tensor([0.0])))\n",
    "\n",
    "print('---> to check model parameters: list(model_0.parameters())')\n",
    "print(list(model_0.parameters()))\n",
    "\n",
    "print('---> to list named parameters: model_0_state_dict')\n",
    "model_0_state_dict = model_0.state_dict()\n",
    "print(model_0_state_dict)\n"
   ]
  },
  {
   "cell_type": "markdown",
   "metadata": {},
   "source": [
    "### The aim is to get closer to the true values of weight and bias\n"
   ]
  },
  {
   "cell_type": "code",
   "execution_count": 8,
   "metadata": {},
   "outputs": [
    {
     "name": "stdout",
     "output_type": "stream",
     "text": [
      "Parameter containing:\n",
      "tensor([-1.2061], requires_grad=True) Parameter containing:\n",
      "tensor([0.0617], requires_grad=True)\n",
      "---> should be approaching: weight: 0.8, bias: 0.5\n"
     ]
    }
   ],
   "source": [
    "print(list(model_0.parameters())[0], list(model_0.parameters())[1])\n",
    "print('---> should be approaching: weight: 0.8, bias: 0.5')\n"
   ]
  },
  {
   "cell_type": "markdown",
   "metadata": {},
   "source": [
    "### Predictions with torch.inference_mode()"
   ]
  },
  {
   "cell_type": "code",
   "execution_count": 9,
   "metadata": {},
   "outputs": [
    {
     "name": "stdout",
     "output_type": "stream",
     "text": [
      "---> to check predictions: y_preds\n",
      "tensor([[-0.9032],\n",
      "        [-0.9273],\n",
      "        [-0.9514],\n",
      "        [-0.9756],\n",
      "        [-0.9997],\n",
      "        [-1.0238],\n",
      "        [-1.0479],\n",
      "        [-1.0720],\n",
      "        [-1.0962],\n",
      "        [-1.1203]])\n",
      "---> to be compared with: y_test\n",
      "tensor([[1.1400],\n",
      "        [1.1560],\n",
      "        [1.1720],\n",
      "        [1.1880],\n",
      "        [1.2040],\n",
      "        [1.2200],\n",
      "        [1.2360],\n",
      "        [1.2520],\n",
      "        [1.2680],\n",
      "        [1.2840]])\n"
     ]
    }
   ],
   "source": [
    "with torch.inference_mode():\n",
    "    y_preds = model_0(X_test)\n",
    "\n",
    "print('---> to check predictions: y_preds')\n",
    "print(y_preds)\n",
    "print('---> to be compared with: y_test')\n",
    "print(y_test)\n",
    "\n",
    "\n"
   ]
  },
  {
   "cell_type": "code",
   "execution_count": 10,
   "metadata": {},
   "outputs": [
    {
     "data": {
      "image/png": "[encoded data removed]",
      "text/plain": [
       "<Figure size 1000x700 with 1 Axes>"
      ]
     },
     "metadata": {},
     "output_type": "display_data"
    }
   ],
   "source": [
    "plot_predictions(predictions=y_preds)"
   ]
  },
  {
   "cell_type": "markdown",
   "metadata": {},
   "source": [
    "## Train model\n",
    "### The aim is to move from unknown parameters to known parameters, \n",
    "### Need to measure how well the model is doing with loss function = cost function = criterion"
   ]
  },
  {
   "cell_type": "code",
   "execution_count": 11,
   "metadata": {},
   "outputs": [
    {
     "data": {
      "text/plain": [
       "[Parameter containing:\n",
       " tensor([-1.2061], requires_grad=True),\n",
       " Parameter containing:\n",
       " tensor([0.0617], requires_grad=True)]"
      ]
     },
     "execution_count": 11,
     "metadata": {},
     "output_type": "execute_result"
    }
   ],
   "source": [
    "list(model_0.parameters())\n"
   ]
  },
  {
   "cell_type": "code",
   "execution_count": 12,
   "metadata": {},
   "outputs": [
    {
     "data": {
      "text/plain": [
       "OrderedDict([('weights', tensor([-1.2061])), ('bias', tensor([0.0617]))])"
      ]
     },
     "execution_count": 12,
     "metadata": {},
     "output_type": "execute_result"
    }
   ],
   "source": [
    "model_0.state_dict()"
   ]
  },
  {
   "cell_type": "markdown",
   "metadata": {},
   "source": [
    "### For Pytorch, we need to set up a loss function and optimizer\n",
    "* Loss function - how wrong the model is\n",
    "* Optimizer - how the model is updated based on the data it sees and its loss function\n",
    "\n",
    "### Need to set up: \n",
    "* Training loop\n",
    "* Testing loop\n",
    "\n"
   ]
  },
  {
   "cell_type": "markdown",
   "metadata": {},
   "source": [
    "### Set up a loss function"
   ]
  },
  {
   "cell_type": "code",
   "execution_count": 13,
   "metadata": {},
   "outputs": [],
   "source": [
    "loss_fn = nn.L1Loss() \n",
    "\n",
    "### Set up an optimizer\n",
    "# stochastic gradient descent: a parameter is the value that the model sets itself\n",
    "optimizer = torch.optim.SGD(params=model_0.parameters(), # stochastic gradient descent\n",
    "                            lr=0.01) # learning rate\n",
    "\n",
    "\n"
   ]
  },
  {
   "cell_type": "markdown",
   "metadata": {},
   "source": [
    "### What we need for a training loop\n",
    "* Loop through the data\n",
    "* Forward pass: involves data moving through the model's forward() function = forward propagation\n",
    "* Calculate the loss = compare forward pass prediction to ground truth labels \n",
    "* Optimizer zero grad\n",
    "* Loss backward = Backpropagation: move backwards through the network to calculate the gradient of each of the parameters of our model with respect to the loss \n",
    "* Optimizer step = Gradient descent: used to adjust our model's parameters to try and improve the loss\n",
    "\n",
    "\n",
    "\n"
   ]
  },
  {
   "cell_type": "code",
   "execution_count": 14,
   "metadata": {},
   "outputs": [
    {
     "name": "stdout",
     "output_type": "stream",
     "text": [
      "tensor([[0.0000],\n",
      "        [0.0200],\n",
      "        [0.0400],\n",
      "        [0.0600],\n",
      "        [0.0800],\n",
      "        [0.1000],\n",
      "        [0.1200],\n",
      "        [0.1400],\n",
      "        [0.1600],\n",
      "        [0.1800],\n",
      "        [0.2000],\n",
      "        [0.2200],\n",
      "        [0.2400],\n",
      "        [0.2600],\n",
      "        [0.2800],\n",
      "        [0.3000],\n",
      "        [0.3200],\n",
      "        [0.3400],\n",
      "        [0.3600],\n",
      "        [0.3800],\n",
      "        [0.4000],\n",
      "        [0.4200],\n",
      "        [0.4400],\n",
      "        [0.4600],\n",
      "        [0.4800],\n",
      "        [0.5000],\n",
      "        [0.5200],\n",
      "        [0.5400],\n",
      "        [0.5600],\n",
      "        [0.5800],\n",
      "        [0.6000],\n",
      "        [0.6200],\n",
      "        [0.6400],\n",
      "        [0.6600],\n",
      "        [0.6800],\n",
      "        [0.7000],\n",
      "        [0.7200],\n",
      "        [0.7400],\n",
      "        [0.7600],\n",
      "        [0.7800]])\n",
      "tensor([[0.8000],\n",
      "        [0.8200],\n",
      "        [0.8400],\n",
      "        [0.8600],\n",
      "        [0.8800],\n",
      "        [0.9000],\n",
      "        [0.9200],\n",
      "        [0.9400],\n",
      "        [0.9600],\n",
      "        [0.9800]])\n"
     ]
    }
   ],
   "source": [
    "print(X_train)\n",
    "print(X_test)\n"
   ]
  },
  {
   "cell_type": "code",
   "execution_count": 15,
   "metadata": {},
   "outputs": [
    {
     "name": "stdout",
     "output_type": "stream",
     "text": [
      "Loss: 1.220697045326233\n",
      "Loss: 1.2091758251190186\n",
      "Loss: 1.1976549625396729\n",
      "Loss: 1.1861339807510376\n",
      "Loss: 1.1746128797531128\n",
      "Loss: 1.163091778755188\n",
      "Loss: 1.1515707969665527\n",
      "Loss: 1.140049695968628\n",
      "Loss: 1.1285288333892822\n",
      "Loss: 1.117007851600647\n",
      "Loss: 1.1054866313934326\n",
      "Loss: 1.0939656496047974\n",
      "Loss: 1.082444667816162\n",
      "Loss: 1.0709235668182373\n",
      "Loss: 1.059402585029602\n",
      "Loss: 1.0478816032409668\n",
      "Loss: 1.036360502243042\n",
      "Loss: 1.0248396396636963\n",
      "Loss: 1.0133185386657715\n",
      "Loss: 1.0017975568771362\n",
      "Loss: 0.9902764558792114\n",
      "Loss: 0.9787555932998657\n",
      "Loss: 0.9672344326972961\n",
      "Loss: 0.9557134509086609\n",
      "Loss: 0.9441925287246704\n",
      "Loss: 0.9326713681221008\n",
      "Loss: 0.9211503863334656\n",
      "Loss: 0.9096294641494751\n",
      "Loss: 0.8981084823608398\n",
      "Loss: 0.8865873217582703\n",
      "Loss: 0.8750663995742798\n",
      "Loss: 0.863545298576355\n",
      "Loss: 0.852024257183075\n",
      "Loss: 0.8405033946037292\n",
      "Loss: 0.8289823532104492\n",
      "Loss: 0.8174613118171692\n",
      "Loss: 0.8059402704238892\n",
      "Loss: 0.7944193482398987\n",
      "Loss: 0.7828983068466187\n",
      "Loss: 0.7713772654533386\n",
      "Loss: 0.7598562836647034\n",
      "Loss: 0.7483352422714233\n",
      "Loss: 0.7368142008781433\n",
      "Loss: 0.7252932786941528\n",
      "Loss: 0.7138557434082031\n",
      "Loss: 0.7033096551895142\n",
      "Loss: 0.6927636861801147\n",
      "Loss: 0.6822175979614258\n",
      "Loss: 0.671836256980896\n",
      "Loss: 0.6622229814529419\n",
      "Loss: 0.6526097655296326\n",
      "Loss: 0.6429964900016785\n",
      "Loss: 0.633560299873352\n",
      "Loss: 0.6248375177383423\n",
      "Loss: 0.6161149144172668\n",
      "Loss: 0.6073921918869019\n",
      "Loss: 0.5987895727157593\n",
      "Loss: 0.5909150242805481\n",
      "Loss: 0.5830404162406921\n",
      "Loss: 0.575165867805481\n",
      "Loss: 0.567291259765625\n",
      "Loss: 0.5598257184028625\n",
      "Loss: 0.5527567267417908\n",
      "Loss: 0.5456876754760742\n",
      "Loss: 0.5386186838150024\n",
      "Loss: 0.5317661166191101\n",
      "Loss: 0.525459885597229\n",
      "Loss: 0.5191535353660583\n",
      "Loss: 0.5128473043441772\n",
      "Loss: 0.5065410137176514\n",
      "Loss: 0.5005601644515991\n",
      "Loss: 0.4949735999107361\n",
      "Loss: 0.4893869459629059\n",
      "Loss: 0.48380041122436523\n",
      "Loss: 0.4782137870788574\n",
      "Loss: 0.4729720950126648\n",
      "Loss: 0.468061625957489\n",
      "Loss: 0.46315115690231323\n",
      "Loss: 0.45824068784713745\n",
      "Loss: 0.4533303380012512\n",
      "Loss: 0.4486933648586273\n",
      "Loss: 0.44441524147987366\n",
      "Loss: 0.4401370882987976\n",
      "Loss: 0.43585890531539917\n",
      "Loss: 0.43158072233200073\n",
      "Loss: 0.4274122714996338\n",
      "Loss: 0.4237220287322998\n",
      "Loss: 0.4200317859649658\n",
      "Loss: 0.41634154319763184\n",
      "Loss: 0.41265130043029785\n",
      "Loss: 0.40896105766296387\n",
      "Loss: 0.40540704131126404\n",
      "Loss: 0.40225982666015625\n",
      "Loss: 0.3991125822067261\n",
      "Loss: 0.3959653675556183\n",
      "Loss: 0.39281806349754333\n",
      "Loss: 0.38967087864875793\n",
      "Loss: 0.3865712583065033\n",
      "Loss: 0.3839215040206909\n",
      "Loss: 0.38127171993255615\n",
      "Loss: 0.3786219656467438\n",
      "Loss: 0.3759722113609314\n",
      "Loss: 0.37332242727279663\n",
      "Loss: 0.37067270278930664\n",
      "Loss: 0.3681030869483948\n",
      "Loss: 0.36590465903282166\n",
      "Loss: 0.36370623111724854\n",
      "Loss: 0.36150774359703064\n",
      "Loss: 0.3593093454837799\n",
      "Loss: 0.3571108877658844\n",
      "Loss: 0.3549124598503113\n",
      "Loss: 0.35271403193473816\n",
      "Loss: 0.35070323944091797\n",
      "Loss: 0.34890925884246826\n",
      "Loss: 0.3471152186393738\n",
      "Loss: 0.3453212082386017\n",
      "Loss: 0.3435271978378296\n",
      "Loss: 0.3417331576347351\n",
      "Loss: 0.339939147233963\n",
      "Loss: 0.3381451368331909\n",
      "Loss: 0.3364817500114441\n",
      "Loss: 0.3350444436073303\n",
      "Loss: 0.3336072266101837\n",
      "Loss: 0.33216995000839233\n",
      "Loss: 0.3307327330112457\n",
      "Loss: 0.32929545640945435\n",
      "Loss: 0.32785820960998535\n",
      "Loss: 0.32642096281051636\n",
      "Loss: 0.324983686208725\n",
      "Loss: 0.32361873984336853\n",
      "Loss: 0.32248976826667786\n",
      "Loss: 0.3213607668876648\n",
      "Loss: 0.32023173570632935\n",
      "Loss: 0.31910279393196106\n",
      "Loss: 0.3179738223552704\n",
      "Loss: 0.31684479117393494\n",
      "Loss: 0.31571581959724426\n",
      "Loss: 0.3145868480205536\n",
      "Loss: 0.3134578466415405\n",
      "Loss: 0.31232887506484985\n",
      "Loss: 0.3113049268722534\n",
      "Loss: 0.3104347586631775\n",
      "Loss: 0.30956459045410156\n",
      "Loss: 0.30869442224502563\n",
      "Loss: 0.3078242540359497\n",
      "Loss: 0.3069540858268738\n",
      "Loss: 0.3060839772224426\n",
      "Loss: 0.3052137792110443\n",
      "Loss: 0.30434364080429077\n",
      "Loss: 0.30347347259521484\n",
      "Loss: 0.3026033043861389\n",
      "Loss: 0.3017331659793854\n",
      "Loss: 0.30087345838546753\n",
      "Loss: 0.3002117872238159\n",
      "Loss: 0.29955005645751953\n",
      "Loss: 0.2988883852958679\n",
      "Loss: 0.29822665452957153\n",
      "Loss: 0.2975649833679199\n",
      "Loss: 0.2969032824039459\n",
      "Loss: 0.2962415814399719\n",
      "Loss: 0.2955798804759979\n",
      "Loss: 0.2949182093143463\n",
      "Loss: 0.2942565083503723\n",
      "Loss: 0.2935948371887207\n",
      "Loss: 0.2929331362247467\n",
      "Loss: 0.2922714352607727\n",
      "Loss: 0.2916097044944763\n",
      "Loss: 0.2909480333328247\n",
      "Loss: 0.2902972102165222\n",
      "Loss: 0.28979259729385376\n",
      "Loss: 0.2892879843711853\n",
      "Loss: 0.28878337144851685\n",
      "Loss: 0.2882787585258484\n",
      "Loss: 0.28777414560317993\n",
      "Loss: 0.28726956248283386\n",
      "Loss: 0.286764919757843\n",
      "Loss: 0.28626030683517456\n",
      "Loss: 0.2857557237148285\n",
      "Loss: 0.28525111079216003\n",
      "Loss: 0.2847464978694916\n",
      "Loss: 0.2842419147491455\n",
      "Loss: 0.28373727202415466\n",
      "Loss: 0.2832326889038086\n",
      "Loss: 0.28272807598114014\n",
      "Loss: 0.2822234630584717\n",
      "Loss: 0.2817188501358032\n",
      "Loss: 0.28121426701545715\n",
      "Loss: 0.2807096540927887\n",
      "Loss: 0.28020504117012024\n",
      "Loss: 0.27970045804977417\n",
      "Loss: 0.27922773361206055\n",
      "Loss: 0.2788277268409729\n",
      "Loss: 0.27842772006988525\n",
      "Loss: 0.2780277132987976\n",
      "Loss: 0.27762773633003235\n",
      "Loss: 0.2772277295589447\n",
      "Loss: 0.27682775259017944\n",
      "Loss: 0.2764277458190918\n",
      "Loss: 0.27602776885032654\n",
      "Loss: 0.2756277620792389\n",
      "Loss: 0.27522775530815125\n",
      "Loss: 0.274827778339386\n",
      "Loss: 0.2744278013706207\n",
      "Loss: 0.2740277647972107\n",
      "Loss: 0.27362778782844543\n",
      "Loss: 0.2732277810573578\n",
      "Loss: 0.27282777428627014\n",
      "Loss: 0.2724277973175049\n",
      "Loss: 0.2720278203487396\n",
      "Loss: 0.27162784337997437\n",
      "Loss: 0.27122780680656433\n",
      "Loss: 0.2708278298377991\n",
      "Loss: 0.2704278230667114\n",
      "Loss: 0.27002784609794617\n",
      "Loss: 0.2696278393268585\n",
      "Loss: 0.26922786235809326\n",
      "Loss: 0.2688278555870056\n",
      "Loss: 0.26842784881591797\n",
      "Loss: 0.2680278718471527\n",
      "Loss: 0.26762786507606506\n",
      "Loss: 0.2672278881072998\n",
      "Loss: 0.26682788133621216\n",
      "Loss: 0.2664279043674469\n",
      "Loss: 0.26602789759635925\n",
      "Loss: 0.2656278908252716\n",
      "Loss: 0.2652636170387268\n",
      "Loss: 0.2649146616458893\n",
      "Loss: 0.264565646648407\n",
      "Loss: 0.2642166018486023\n",
      "Loss: 0.2638676166534424\n",
      "Loss: 0.26351863145828247\n",
      "Loss: 0.26316961646080017\n",
      "Loss: 0.26282063126564026\n",
      "Loss: 0.26247164607048035\n",
      "Loss: 0.26212266087532043\n",
      "Loss: 0.26177364587783813\n",
      "Loss: 0.26142463088035583\n",
      "Loss: 0.2610756456851959\n",
      "Loss: 0.260726660490036\n",
      "Loss: 0.2603776454925537\n",
      "Loss: 0.2600286602973938\n",
      "Loss: 0.2596796452999115\n",
      "Loss: 0.259330689907074\n",
      "Loss: 0.2589816749095917\n",
      "Loss: 0.25863268971443176\n",
      "Loss: 0.25828367471694946\n",
      "Loss: 0.25793465971946716\n",
      "Loss: 0.25758564472198486\n",
      "Loss: 0.25723665952682495\n",
      "Loss: 0.25688767433166504\n",
      "Loss: 0.2565386891365051\n",
      "Loss: 0.2561896741390228\n",
      "Loss: 0.2558406591415405\n",
      "Loss: 0.2554916739463806\n",
      "Loss: 0.2551426887512207\n",
      "Loss: 0.2547937035560608\n",
      "Loss: 0.2544446587562561\n",
      "Loss: 0.2540956735610962\n",
      "Loss: 0.2537466883659363\n",
      "Loss: 0.253397673368454\n",
      "Loss: 0.25304868817329407\n",
      "Loss: 0.25269967317581177\n",
      "Loss: 0.25235071778297424\n",
      "Loss: 0.25200170278549194\n",
      "Loss: 0.25165271759033203\n",
      "Loss: 0.2513037323951721\n",
      "Loss: 0.25095468759536743\n",
      "Loss: 0.2506057024002075\n",
      "Loss: 0.2502567172050476\n",
      "Loss: 0.2499077320098877\n",
      "Loss: 0.249558687210083\n",
      "Loss: 0.24920973181724548\n",
      "Loss: 0.24886071681976318\n",
      "Loss: 0.24851170182228088\n",
      "Loss: 0.24816271662712097\n",
      "Loss: 0.24781370162963867\n",
      "Loss: 0.24746470153331757\n",
      "Loss: 0.24711573123931885\n",
      "Loss: 0.24676673114299774\n",
      "Loss: 0.24641773104667664\n",
      "Loss: 0.24606871604919434\n",
      "Loss: 0.24571974575519562\n",
      "Loss: 0.2453707456588745\n",
      "Loss: 0.2450217306613922\n",
      "Loss: 0.2446727305650711\n",
      "Loss: 0.2443237006664276\n",
      "Loss: 0.2439747303724289\n",
      "Loss: 0.2436257302761078\n",
      "Loss: 0.24327674508094788\n",
      "Loss: 0.24292774498462677\n",
      "Loss: 0.24257871508598328\n",
      "Loss: 0.24222974479198456\n",
      "Loss: 0.24188072979450226\n",
      "Loss: 0.24153172969818115\n",
      "Loss: 0.24118271470069885\n",
      "Loss: 0.24083372950553894\n",
      "Loss: 0.24048471450805664\n",
      "Loss: 0.24013574421405792\n",
      "Loss: 0.23978671431541443\n",
      "Loss: 0.23943772912025452\n",
      "Loss: 0.2390887290239334\n",
      "Loss: 0.2387397289276123\n",
      "Loss: 0.2383907288312912\n",
      "Loss: 0.2380417138338089\n",
      "Loss: 0.2376927137374878\n",
      "Loss: 0.2373436987400055\n",
      "Loss: 0.23699471354484558\n",
      "Loss: 0.23664569854736328\n",
      "Loss: 0.23629672825336456\n",
      "Loss: 0.23594772815704346\n",
      "Loss: 0.23559871315956116\n",
      "Loss: 0.23524971306324005\n",
      "Loss: 0.23490071296691895\n",
      "Loss: 0.23455169796943665\n",
      "Loss: 0.23420269787311554\n",
      "Loss: 0.23385372757911682\n",
      "Loss: 0.23350469768047333\n",
      "Loss: 0.23315568268299103\n",
      "Loss: 0.23280668258666992\n",
      "Loss: 0.23245768249034882\n",
      "Loss: 0.2321086823940277\n",
      "Loss: 0.2317596971988678\n",
      "Loss: 0.2314106971025467\n",
      "Loss: 0.2310616672039032\n",
      "Loss: 0.23071269690990448\n",
      "Loss: 0.23036368191242218\n",
      "Loss: 0.23001714050769806\n",
      "Loss: 0.22967848181724548\n",
      "Loss: 0.22932949662208557\n",
      "Loss: 0.22899195551872253\n",
      "Loss: 0.22864428162574768\n",
      "Loss: 0.22830292582511902\n",
      "Loss: 0.22795908153057098\n",
      "Loss: 0.2276139259338379\n",
      "Loss: 0.2272738665342331\n",
      "Loss: 0.22692489624023438\n",
      "Loss: 0.2265886813402176\n",
      "Loss: 0.2262396365404129\n",
      "Loss: 0.22589966654777527\n",
      "Loss: 0.2255544662475586\n",
      "Loss: 0.22521066665649414\n",
      "Loss: 0.2248692512512207\n",
      "Loss: 0.22452163696289062\n",
      "Loss: 0.2241840660572052\n",
      "Loss: 0.2238350808620453\n",
      "Loss: 0.2234964370727539\n",
      "Loss: 0.2231498509645462\n",
      "Loss: 0.22280743718147278\n",
      "Loss: 0.2224646508693695\n",
      "Loss: 0.22211842238903046\n",
      "Loss: 0.221779465675354\n",
      "Loss: 0.2214304506778717\n",
      "Loss: 0.22109320759773254\n",
      "Loss: 0.2207452356815338\n",
      "Loss: 0.22040417790412903\n",
      "Loss: 0.22006003558635712\n",
      "Loss: 0.2197151631116867\n",
      "Loss: 0.2193748503923416\n",
      "Loss: 0.2190261334180832\n",
      "Loss: 0.21868963539600372\n",
      "Loss: 0.21834063529968262\n",
      "Loss: 0.21800093352794647\n",
      "Loss: 0.21765545010566711\n",
      "Loss: 0.21731190383434296\n",
      "Loss: 0.21697023510932922\n",
      "Loss: 0.21662290394306183\n",
      "Loss: 0.21628503501415253\n",
      "Loss: 0.21593603491783142\n",
      "Loss: 0.2155977040529251\n",
      "Loss: 0.21525081992149353\n",
      "Loss: 0.2149086892604828\n",
      "Loss: 0.21456560492515564\n",
      "Loss: 0.21421965956687927\n",
      "Loss: 0.21388041973114014\n",
      "Loss: 0.21353141963481903\n",
      "Loss: 0.21319445967674255\n",
      "Loss: 0.21284620463848114\n",
      "Loss: 0.21250545978546143\n",
      "Loss: 0.21216098964214325\n",
      "Loss: 0.2118164598941803\n",
      "Loss: 0.21147580444812775\n",
      "Loss: 0.21112743020057678\n",
      "Loss: 0.21079060435295105\n",
      "Loss: 0.21044161915779114\n",
      "Loss: 0.21010220050811768\n",
      "Loss: 0.20975640416145325\n",
      "Loss: 0.20941320061683655\n",
      "Loss: 0.20907120406627655\n",
      "Loss: 0.20872417092323303\n",
      "Loss: 0.20838601887226105\n",
      "Loss: 0.20803701877593994\n",
      "Loss: 0.2076989859342575\n",
      "Loss: 0.20735177397727966\n",
      "Loss: 0.207009956240654\n",
      "Loss: 0.20666658878326416\n",
      "Loss: 0.20632095634937286\n",
      "Loss: 0.20598140358924866\n",
      "Loss: 0.20563241839408875\n",
      "Loss: 0.20529572665691376\n",
      "Loss: 0.20494718849658966\n",
      "Loss: 0.20460672676563263\n",
      "Loss: 0.20426201820373535\n",
      "Loss: 0.2039176970720291\n",
      "Loss: 0.20357680320739746\n",
      "Loss: 0.20322871208190918\n",
      "Loss: 0.20289161801338196\n",
      "Loss: 0.20254258811473846\n",
      "Loss: 0.20220351219177246\n",
      "Loss: 0.20185740292072296\n",
      "Loss: 0.20151448249816895\n",
      "Loss: 0.20117218792438507\n",
      "Loss: 0.20082548260688782\n",
      "Loss: 0.20048698782920837\n",
      "Loss: 0.20013800263404846\n",
      "Loss: 0.1998002529144287\n",
      "Loss: 0.19945278763771057\n",
      "Loss: 0.1991112381219864\n",
      "Loss: 0.19876760244369507\n",
      "Loss: 0.19842223823070526\n",
      "Loss: 0.19808241724967957\n",
      "Loss: 0.19773338735103607\n",
      "Loss: 0.19739702343940735\n",
      "Loss: 0.19704820215702057\n",
      "Loss: 0.19670800864696503\n",
      "Loss: 0.19636297225952148\n",
      "Loss: 0.1960190087556839\n",
      "Loss: 0.19567780196666718\n",
      "Loss: 0.19532999396324158\n",
      "Loss: 0.1949925720691681\n",
      "Loss: 0.19464358687400818\n",
      "Loss: 0.19430477917194366\n",
      "Loss: 0.1939583718776703\n",
      "Loss: 0.19361576437950134\n",
      "Loss: 0.19327318668365479\n",
      "Loss: 0.19292674958705902\n",
      "Loss: 0.19258800148963928\n",
      "Loss: 0.19223898649215698\n",
      "Loss: 0.1919015347957611\n",
      "Loss: 0.19155378639698029\n",
      "Loss: 0.19121253490447998\n",
      "Loss: 0.1908685863018036\n",
      "Loss: 0.19052350521087646\n",
      "Loss: 0.1901833713054657\n",
      "Loss: 0.18983450531959534\n",
      "Loss: 0.1894981861114502\n",
      "Loss: 0.1891491711139679\n",
      "Loss: 0.18880929052829742\n",
      "Loss: 0.1884639859199524\n",
      "Loss: 0.1881202757358551\n",
      "Loss: 0.1877787858247757\n",
      "Loss: 0.18743127584457397\n",
      "Loss: 0.187093585729599\n",
      "Loss: 0.1867446005344391\n",
      "Loss: 0.18640606105327606\n",
      "Loss: 0.1860593855381012\n",
      "Loss: 0.18571703135967255\n",
      "Loss: 0.1853741705417633\n",
      "Loss: 0.18502803146839142\n",
      "Loss: 0.1846889704465866\n",
      "Loss: 0.1843399852514267\n",
      "Loss: 0.1840028166770935\n",
      "Loss: 0.1836547702550888\n",
      "Loss: 0.18331380188465118\n",
      "Loss: 0.1829695850610733\n",
      "Loss: 0.18262480199337006\n",
      "Loss: 0.1822843849658966\n",
      "Loss: 0.18193578720092773\n",
      "Loss: 0.1815991848707199\n",
      "Loss: 0.1812501847743988\n",
      "Loss: 0.18091055750846863\n",
      "Loss: 0.1805649697780609\n",
      "Loss: 0.1802215725183487\n",
      "Loss: 0.17987976968288422\n",
      "Loss: 0.17953255772590637\n",
      "Loss: 0.17919456958770752\n",
      "Loss: 0.1788455694913864\n",
      "Loss: 0.17850734293460846\n",
      "Loss: 0.17816036939620972\n",
      "Loss: 0.17781832814216614\n",
      "Loss: 0.17747516930103302\n",
      "Loss: 0.17712929844856262\n",
      "Loss: 0.17678996920585632\n",
      "Loss: 0.1764409840106964\n",
      "Loss: 0.1761040985584259\n",
      "Loss: 0.17575576901435852\n",
      "Loss: 0.1754150688648224\n",
      "Loss: 0.17507056891918182\n",
      "Loss: 0.17472608387470245\n",
      "Loss: 0.17438538372516632\n",
      "Loss: 0.17403706908226013\n",
      "Loss: 0.17370016872882843\n",
      "Loss: 0.17335116863250732\n",
      "Loss: 0.17301185429096222\n",
      "Loss: 0.17266596853733063\n",
      "Loss: 0.1723228394985199\n",
      "Loss: 0.17198078334331512\n",
      "Loss: 0.17163383960723877\n",
      "Loss: 0.17129555344581604\n",
      "Loss: 0.17094656825065613\n",
      "Loss: 0.17060862481594086\n",
      "Loss: 0.17026136815547943\n",
      "Loss: 0.16991961002349854\n",
      "Loss: 0.16957619786262512\n",
      "Loss: 0.1692306101322174\n",
      "Loss: 0.16889098286628723\n",
      "Loss: 0.16854196786880493\n",
      "Loss: 0.1682053953409195\n",
      "Loss: 0.16785678267478943\n",
      "Loss: 0.16751636564731598\n",
      "Loss: 0.16717155277729034\n",
      "Loss: 0.16682735085487366\n",
      "Loss: 0.16648635268211365\n",
      "Loss: 0.16613836586475372\n",
      "Loss: 0.16580115258693695\n",
      "Loss: 0.16545215249061584\n",
      "Loss: 0.16511313617229462\n",
      "Loss: 0.16476695239543915\n",
      "Loss: 0.1644241213798523\n",
      "Loss: 0.16408175230026245\n",
      "Loss: 0.16373512148857117\n",
      "Loss: 0.16339656710624695\n",
      "Loss: 0.16304755210876465\n",
      "Loss: 0.16270990669727325\n",
      "Loss: 0.16236236691474915\n",
      "Loss: 0.16202089190483093\n",
      "Loss: 0.16167715191841125\n",
      "Loss: 0.1613318920135498\n",
      "Loss: 0.16099196672439575\n",
      "Loss: 0.16064295172691345\n",
      "Loss: 0.1603066623210907\n",
      "Loss: 0.15995776653289795\n",
      "Loss: 0.15961764752864838\n",
      "Loss: 0.15927255153656006\n",
      "Loss: 0.15892864763736725\n",
      "Loss: 0.15858736634254456\n",
      "Loss: 0.15823963284492493\n",
      "Loss: 0.15790215134620667\n",
      "Loss: 0.15755315124988556\n",
      "Loss: 0.15721441805362701\n",
      "Loss: 0.15686795115470886\n",
      "Loss: 0.1565254181623459\n",
      "Loss: 0.15618276596069336\n",
      "Loss: 0.15583640336990356\n",
      "Loss: 0.15549755096435547\n",
      "Loss: 0.15514855086803436\n",
      "Loss: 0.15481117367744446\n",
      "Loss: 0.15446335077285767\n",
      "Loss: 0.15412218868732452\n",
      "Loss: 0.15377816557884216\n",
      "Loss: 0.1534331738948822\n",
      "Loss: 0.15309295058250427\n",
      "Loss: 0.1527441442012787\n",
      "Loss: 0.15240775048732758\n",
      "Loss: 0.15205875039100647\n",
      "Loss: 0.15171892940998077\n",
      "Loss: 0.15137353539466858\n",
      "Loss: 0.15102992951869965\n",
      "Loss: 0.15068833529949188\n",
      "Loss: 0.15034091472625732\n",
      "Loss: 0.15000315010547638\n",
      "Loss: 0.14965415000915527\n",
      "Loss: 0.14931568503379822\n",
      "Loss: 0.14896893501281738\n",
      "Loss: 0.1486266851425171\n",
      "Loss: 0.14828374981880188\n",
      "Loss: 0.14793768525123596\n",
      "Loss: 0.147598534822464\n",
      "Loss: 0.14724954962730408\n",
      "Loss: 0.14691248536109924\n",
      "Loss: 0.1465643346309662\n",
      "Loss: 0.14622345566749573\n",
      "Loss: 0.14587914943695068\n",
      "Loss: 0.1455344557762146\n",
      "Loss: 0.145193949341774\n",
      "Loss: 0.14484544098377228\n",
      "Loss: 0.1445087492465973\n",
      "Loss: 0.14415974915027618\n",
      "Loss: 0.14382022619247437\n",
      "Loss: 0.1434745490550995\n",
      "Loss: 0.14313122630119324\n",
      "Loss: 0.1427893340587616\n",
      "Loss: 0.14244219660758972\n",
      "Loss: 0.1421041339635849\n",
      "Loss: 0.1417551338672638\n",
      "Loss: 0.1414169818162918\n",
      "Loss: 0.1410699337720871\n",
      "Loss: 0.1407279670238495\n",
      "Loss: 0.1403847485780716\n",
      "Loss: 0.14003898203372955\n",
      "Loss: 0.1396995335817337\n",
      "Loss: 0.1393505185842514\n",
      "Loss: 0.13901375234127045\n",
      "Loss: 0.1386653333902359\n",
      "Loss: 0.13832473754882812\n",
      "Loss: 0.1379801332950592\n",
      "Loss: 0.137635737657547\n",
      "Loss: 0.1372949481010437\n",
      "Loss: 0.13694670796394348\n",
      "Loss: 0.1366097331047058\n",
      "Loss: 0.1362607330083847\n",
      "Loss: 0.13592150807380676\n",
      "Loss: 0.135575532913208\n",
      "Loss: 0.13523247838020325\n",
      "Loss: 0.13489031791687012\n",
      "Loss: 0.1345434933900833\n",
      "Loss: 0.13420513272285461\n",
      "Loss: 0.1338561326265335\n",
      "Loss: 0.1335182636976242\n",
      "Loss: 0.1331709325313568\n",
      "Loss: 0.13282926380634308\n",
      "Loss: 0.13248571753501892\n",
      "Loss: 0.13214024901390076\n",
      "Loss: 0.13180053234100342\n",
      "Loss: 0.13145151734352112\n",
      "Loss: 0.13111501932144165\n",
      "Loss: 0.13076631724834442\n",
      "Loss: 0.13042601943016052\n",
      "Loss: 0.13008113205432892\n",
      "Loss: 0.1297370195388794\n",
      "Loss: 0.12939593195915222\n",
      "Loss: 0.12904800474643707\n",
      "Loss: 0.12871071696281433\n",
      "Loss: 0.12836171686649323\n",
      "Loss: 0.12802278995513916\n",
      "Loss: 0.12767651677131653\n",
      "Loss: 0.12733379006385803\n",
      "Loss: 0.12699131667613983\n",
      "Loss: 0.12664476037025452\n",
      "Loss: 0.12630613148212433\n",
      "Loss: 0.12595713138580322\n",
      "Loss: 0.1256195604801178\n",
      "Loss: 0.12527193129062653\n",
      "Loss: 0.12493053823709488\n",
      "Loss: 0.12458672374486923\n",
      "Loss: 0.12424153089523315\n",
      "Loss: 0.12390150129795074\n",
      "Loss: 0.12355252355337143\n",
      "Loss: 0.12321631610393524\n",
      "Loss: 0.12286732345819473\n",
      "Loss: 0.12252731621265411\n",
      "Loss: 0.12218211591243744\n",
      "Loss: 0.12183830887079239\n",
      "Loss: 0.12149691581726074\n",
      "Loss: 0.12114930152893066\n",
      "Loss: 0.12081172317266464\n",
      "Loss: 0.12046273052692413\n",
      "Loss: 0.12012406438589096\n",
      "Loss: 0.11977751553058624\n",
      "Loss: 0.11943507194519043\n",
      "Loss: 0.11909232288599014\n",
      "Loss: 0.11874605715274811\n",
      "Loss: 0.11840710788965225\n",
      "Loss: 0.11805812269449234\n",
      "Loss: 0.1177208423614502\n",
      "Loss: 0.11737290769815445\n",
      "Loss: 0.11703183501958847\n",
      "Loss: 0.11668771505355835\n",
      "Loss: 0.11634282022714615\n",
      "Loss: 0.11600251495838165\n",
      "Loss: 0.11565379798412323\n",
      "Loss: 0.11531732231378555\n",
      "Loss: 0.11496829986572266\n",
      "Loss: 0.11462859064340591\n",
      "Loss: 0.11428310722112656\n",
      "Loss: 0.11393958330154419\n",
      "Loss: 0.11359790712594986\n",
      "Loss: 0.11325057595968246\n",
      "Loss: 0.11291271448135376\n",
      "Loss: 0.11256370693445206\n",
      "Loss: 0.11222536861896515\n",
      "Loss: 0.11187849938869476\n",
      "Loss: 0.11153633892536163\n",
      "Loss: 0.11119331419467926\n",
      "Loss: 0.11084733158349991\n",
      "Loss: 0.11050810664892197\n",
      "Loss: 0.11015911400318146\n",
      "Loss: 0.109822116792202\n",
      "Loss: 0.10947389900684357\n",
      "Loss: 0.10913310945034027\n",
      "Loss: 0.10878870636224747\n",
      "Loss: 0.10844409465789795\n",
      "Loss: 0.10810349881649017\n",
      "Loss: 0.10775508731603622\n",
      "Loss: 0.10741829872131348\n",
      "Loss: 0.10706927627325058\n",
      "Loss: 0.10672986507415771\n",
      "Loss: 0.10638408362865448\n",
      "Loss: 0.10604085773229599\n",
      "Loss: 0.10569888353347778\n",
      "Loss: 0.10535184293985367\n",
      "Loss: 0.10501368343830109\n",
      "Loss: 0.10466468334197998\n",
      "Loss: 0.10432662814855576\n",
      "Loss: 0.10397946834564209\n",
      "Loss: 0.10363761335611343\n",
      "Loss: 0.10329427570104599\n",
      "Loss: 0.10294859111309052\n",
      "Loss: 0.10260908305644989\n",
      "Loss: 0.10226007550954819\n",
      "Loss: 0.1019233837723732\n",
      "Loss: 0.10157487541437149\n",
      "Loss: 0.10123436152935028\n",
      "Loss: 0.1008896604180336\n",
      "Loss: 0.10054536163806915\n",
      "Loss: 0.1002044677734375\n",
      "Loss: 0.09985633939504623\n",
      "Loss: 0.0995192602276802\n",
      "Loss: 0.0991702526807785\n",
      "Loss: 0.09883110970258713\n",
      "Loss: 0.0984850525856018\n",
      "Loss: 0.0981421023607254\n",
      "Loss: 0.09779985249042511\n",
      "Loss: 0.09745310246944427\n",
      "Loss: 0.09711465239524841\n",
      "Loss: 0.09676565229892731\n",
      "Loss: 0.09642788022756577\n",
      "Loss: 0.09608043730258942\n",
      "Loss: 0.09573886543512344\n",
      "Loss: 0.09539522975683212\n",
      "Loss: 0.09504984319210052\n",
      "Loss: 0.09471003711223602\n",
      "Loss: 0.09436103701591492\n",
      "Loss: 0.09402463585138321\n",
      "Loss: 0.09367583692073822\n",
      "Loss: 0.09333562850952148\n",
      "Loss: 0.09299062937498093\n",
      "Loss: 0.09264661371707916\n",
      "Loss: 0.09230542182922363\n",
      "Loss: 0.09195759892463684\n",
      "Loss: 0.09162022173404694\n",
      "Loss: 0.09127122163772583\n",
      "Loss: 0.09093238413333893\n",
      "Loss: 0.09058601409196854\n",
      "Loss: 0.0902433767914772\n",
      "Loss: 0.08990081399679184\n",
      "Loss: 0.08955435454845428\n",
      "Loss: 0.08921561390161514\n",
      "Loss: 0.08886661380529404\n",
      "Loss: 0.08852913975715637\n",
      "Loss: 0.08818140625953674\n",
      "Loss: 0.08784013241529465\n",
      "Loss: 0.08749620616436005\n",
      "Loss: 0.08715111762285233\n",
      "Loss: 0.08681100606918335\n",
      "Loss: 0.0864621102809906\n",
      "Loss: 0.08612579107284546\n",
      "Loss: 0.08577679842710495\n",
      "Loss: 0.08543688803911209\n",
      "Loss: 0.08509159833192825\n",
      "Loss: 0.08474787324666977\n",
      "Loss: 0.08440639078617096\n",
      "Loss: 0.08405885845422745\n",
      "Loss: 0.08372119069099426\n",
      "Loss: 0.08337218314409256\n",
      "Loss: 0.08303363621234894\n",
      "Loss: 0.08268698304891586\n",
      "Loss: 0.08234463632106781\n",
      "Loss: 0.08200178295373917\n",
      "Loss: 0.0816556066274643\n",
      "Loss: 0.08131657540798187\n",
      "Loss: 0.08096758276224136\n",
      "Loss: 0.08063039928674698\n",
      "Loss: 0.08028237521648407\n",
      "Loss: 0.07994138449430466\n",
      "Loss: 0.07959717512130737\n",
      "Loss: 0.07925237715244293\n",
      "Loss: 0.07891196757555008\n",
      "Loss: 0.07856335490942001\n",
      "Loss: 0.07822676748037338\n",
      "Loss: 0.07787775993347168\n",
      "Loss: 0.0775381475687027\n",
      "Loss: 0.07719255983829498\n",
      "Loss: 0.07684913277626038\n",
      "Loss: 0.07650735974311829\n",
      "Loss: 0.07616011798381805\n",
      "Loss: 0.07582215964794159\n",
      "Loss: 0.07547314465045929\n",
      "Loss: 0.07513491064310074\n",
      "Loss: 0.07478795200586319\n",
      "Loss: 0.07444588840007782\n",
      "Loss: 0.0741027444601059\n",
      "Loss: 0.0737568661570549\n",
      "Loss: 0.0734175443649292\n",
      "Loss: 0.0730685368180275\n",
      "Loss: 0.07273165881633759\n",
      "Loss: 0.0723833441734314\n",
      "Loss: 0.07204264402389526\n",
      "Loss: 0.0716981440782547\n",
      "Loss: 0.07135362923145294\n",
      "Loss: 0.07101292908191681\n",
      "Loss: 0.07066462188959122\n",
      "Loss: 0.07032772153615952\n",
      "Loss: 0.069978728890419\n",
      "Loss: 0.0696394070982933\n",
      "Loss: 0.06929352134466171\n",
      "Loss: 0.06895038485527039\n",
      "Loss: 0.06860832124948502\n",
      "Loss: 0.06826137751340866\n",
      "Loss: 0.06792311370372772\n",
      "Loss: 0.06757411360740662\n",
      "Loss: 0.06723617762327194\n",
      "Loss: 0.06688891351222992\n",
      "Loss: 0.06654714792966843\n",
      "Loss: 0.06620371341705322\n",
      "Loss: 0.0658581405878067\n",
      "Loss: 0.06551851332187653\n",
      "Loss: 0.06516949832439423\n",
      "Loss: 0.06483292579650879\n",
      "Loss: 0.06448432058095932\n",
      "Loss: 0.06414391100406647\n",
      "Loss: 0.06379909813404083\n",
      "Loss: 0.06345489621162415\n",
      "Loss: 0.06311390548944473\n",
      "Loss: 0.06276588141918182\n",
      "Loss: 0.06242869049310684\n",
      "Loss: 0.062079690396785736\n",
      "Loss: 0.06174066662788391\n",
      "Loss: 0.061394501477479935\n",
      "Loss: 0.06105164438486099\n",
      "Loss: 0.06070929020643234\n",
      "Loss: 0.06036263704299927\n",
      "Loss: 0.060024093836545944\n",
      "Loss: 0.05967508628964424\n",
      "Loss: 0.05933742970228195\n",
      "Loss: 0.05898988991975784\n",
      "Loss: 0.05864841863512993\n",
      "Loss: 0.05830467864871025\n",
      "Loss: 0.05795939639210701\n",
      "Loss: 0.057619474828243256\n",
      "Loss: 0.05727047845721245\n",
      "Loss: 0.056934185326099396\n",
      "Loss: 0.05658527463674545\n",
      "Loss: 0.056245170533657074\n",
      "Loss: 0.055900074541568756\n",
      "Loss: 0.05555615946650505\n",
      "Loss: 0.055214863270521164\n",
      "Loss: 0.05486714094877243\n",
      "Loss: 0.054529666900634766\n",
      "Loss: 0.05418067052960396\n",
      "Loss: 0.05384192615747452\n",
      "Loss: 0.053495459258556366\n",
      "Loss: 0.053152911365032196\n",
      "Loss: 0.05281025916337967\n",
      "Loss: 0.05246390774846077\n",
      "Loss: 0.052125055342912674\n",
      "Loss: 0.051776058971881866\n",
      "Loss: 0.05143868178129196\n",
      "Loss: 0.05109085515141487\n",
      "Loss: 0.05074967071413994\n",
      "Loss: 0.050405651330947876\n",
      "Loss: 0.05006066709756851\n",
      "Loss: 0.04972044378519058\n",
      "Loss: 0.049371641129255295\n",
      "Loss: 0.04903525114059448\n",
      "Loss: 0.04868624359369278\n",
      "Loss: 0.04834643751382828\n",
      "Loss: 0.04800103232264519\n",
      "Loss: 0.04765741899609566\n",
      "Loss: 0.04731583595275879\n",
      "Loss: 0.04696841165423393\n",
      "Loss: 0.046630632132291794\n",
      "Loss: 0.04628162831068039\n",
      "Loss: 0.04594319313764572\n",
      "Loss: 0.04559642821550369\n",
      "Loss: 0.0452541783452034\n",
      "Loss: 0.0449112243950367\n",
      "Loss: 0.044565167278051376\n",
      "Loss: 0.0442260205745697\n",
      "Loss: 0.043877024203538895\n",
      "Loss: 0.043539952486753464\n",
      "Loss: 0.0431918129324913\n",
      "Loss: 0.042850933969020844\n",
      "Loss: 0.0425066202878952\n",
      "Loss: 0.04216192290186882\n",
      "Loss: 0.041821420192718506\n",
      "Loss: 0.0414729118347168\n",
      "Loss: 0.041136208921670914\n",
      "Loss: 0.04078720882534981\n",
      "Loss: 0.04044770076870918\n",
      "Loss: 0.040102001279592514\n",
      "Loss: 0.039758674800395966\n",
      "Loss: 0.03941680118441582\n",
      "Loss: 0.039069660007953644\n",
      "Loss: 0.03873160108923912\n",
      "Loss: 0.038382597267627716\n",
      "Loss: 0.03804445266723633\n",
      "Loss: 0.03769739344716072\n",
      "Loss: 0.03735543414950371\n",
      "Loss: 0.037012189626693726\n",
      "Loss: 0.03666642680764198\n",
      "Loss: 0.03632699325680733\n",
      "Loss: 0.03597798943519592\n",
      "Loss: 0.035641200840473175\n",
      "Loss: 0.03529278188943863\n",
      "Loss: 0.03495219349861145\n",
      "Loss: 0.03460758179426193\n",
      "Loss: 0.03426317870616913\n",
      "Loss: 0.03392237424850464\n",
      "Loss: 0.033574171364307404\n",
      "Loss: 0.03323718160390854\n",
      "Loss: 0.03288816660642624\n",
      "Loss: 0.03254895284771919\n",
      "Loss: 0.03220297023653984\n",
      "Loss: 0.03185994178056717\n",
      "Loss: 0.031517766416072845\n",
      "Loss: 0.03117092326283455\n",
      "Loss: 0.030832564458251\n",
      "Loss: 0.030483562499284744\n",
      "Loss: 0.030145710334181786\n",
      "Loss: 0.0297983530908823\n",
      "Loss: 0.029456699267029762\n",
      "Loss: 0.029113154858350754\n",
      "Loss: 0.02876768447458744\n",
      "Loss: 0.028427952900528908\n",
      "Loss: 0.028078949078917503\n",
      "Loss: 0.027742469683289528\n",
      "Loss: 0.027393747121095657\n",
      "Loss: 0.027053454890847206\n",
      "Loss: 0.02670854702591896\n",
      "Loss: 0.026364441961050034\n",
      "Loss: 0.026023339480161667\n",
      "Loss: 0.025675427168607712\n",
      "Loss: 0.025338133797049522\n",
      "Loss: 0.024989139288663864\n",
      "Loss: 0.0246502123773098\n",
      "Loss: 0.024303928017616272\n",
      "Loss: 0.023961205035448074\n",
      "Loss: 0.023618731647729874\n",
      "Loss: 0.023272182792425156\n",
      "Loss: 0.02293352782726288\n",
      "Loss: 0.022584524005651474\n",
      "Loss: 0.02224697731435299\n",
      "Loss: 0.021899327635765076\n",
      "Loss: 0.021557962521910667\n",
      "Loss: 0.02121412195265293\n",
      "Loss: 0.020868942141532898\n",
      "Loss: 0.020528916269540787\n",
      "Loss: 0.020179923623800278\n",
      "Loss: 0.01984371617436409\n",
      "Loss: 0.019494716078042984\n",
      "Loss: 0.019154710695147514\n",
      "Loss: 0.01880951039493084\n",
      "Loss: 0.018465708941221237\n",
      "Loss: 0.018124297261238098\n",
      "Loss: 0.017776694148778915\n",
      "Loss: 0.01743910275399685\n",
      "Loss: 0.017090104520320892\n",
      "Loss: 0.016751471906900406\n",
      "Loss: 0.016404900699853897\n",
      "Loss: 0.016062458977103233\n",
      "Loss: 0.01571969874203205\n",
      "Loss: 0.015373443253338337\n",
      "Loss: 0.015034493990242481\n",
      "Loss: 0.014685498550534248\n",
      "Loss: 0.014348223805427551\n",
      "Loss: 0.014000286348164082\n",
      "Loss: 0.013659216463565826\n",
      "Loss: 0.01331508718430996\n",
      "Loss: 0.012970204465091228\n",
      "Loss: 0.012629883363842964\n",
      "Loss: 0.012281186878681183\n",
      "Loss: 0.011944679543375969\n",
      "Loss: 0.011595681309700012\n",
      "Loss: 0.011255967430770397\n",
      "Loss: 0.010910476557910442\n",
      "Loss: 0.010566960088908672\n",
      "Loss: 0.010225270874798298\n",
      "Loss: 0.009877948090434074\n",
      "Loss: 0.009540064260363579\n",
      "Loss: 0.009191073477268219\n",
      "Loss: 0.008852733299136162\n",
      "Loss: 0.008505860343575478\n",
      "Loss: 0.008163723163306713\n",
      "Loss: 0.007820667698979378\n",
      "Loss: 0.0074747041799128056\n",
      "Loss: 0.007135458290576935\n",
      "Loss: 0.006786459591239691\n",
      "Loss: 0.006449486128985882\n",
      "Loss: 0.006101260893046856\n",
      "Loss: 0.005760475993156433\n",
      "Loss: 0.005416053347289562\n",
      "Loss: 0.005071468651294708\n",
      "Loss: 0.0047308518551290035\n",
      "Loss: 0.0043824524618685246\n",
      "Loss: 0.00404564430937171\n",
      "Loss: 0.00369664141908288\n",
      "Loss: 0.003357233013957739\n",
      "Loss: 0.0030114413239061832\n",
      "Loss: 0.0026682198513299227\n",
      "Loss: 0.002326239598914981\n",
      "Loss: 0.0019792094826698303\n",
      "Loss: 0.0016474456060677767\n",
      "Loss: 0.0013554602628573775\n",
      "Loss: 0.002023346722126007\n",
      "Loss: 0.008504842408001423\n",
      "Loss: 0.0030161470640450716\n",
      "Loss: 0.008504842408001423\n",
      "Loss: 0.0030161470640450716\n",
      "Loss: 0.008504842408001423\n",
      "Loss: 0.0030161470640450716\n"
     ]
    }
   ],
   "source": [
    "# Epochs = loops through the data\n",
    "epochs = 1000\n",
    " # lists to track the results\n",
    "epoch_count = []\n",
    "loss_values = []\n",
    "test_loss_values = []\n",
    "\n",
    "# Loop through the data\n",
    "for epoch in range(epochs):\n",
    "    model_0.train() # set the model to training mode\n",
    "    # 1. Forward pass\n",
    "    y_pred = model_0(X_train)\n",
    "    # 2. Calculate the loss\n",
    "    loss = loss_fn(y_pred, y_train) # (input, target)\n",
    "    # 3. Optimizer zero grad\n",
    "    optimizer.zero_grad()\n",
    "    # 4. Loss backward\n",
    "    loss.backward()\n",
    "    # 5. Optimizer step\n",
    "    optimizer.step()\n",
    "    # 6. Testing\n",
    "    model_0.eval() # turns off different settings in the model not needed for evaluation/testing (dropout / batchnorm)\n",
    "    with torch.inference_mode(): #turns off gradient tracking \n",
    "        test_pred = model_0(X_test) # forward pass\n",
    "        test_loss = loss_fn(test_pred, y_test)\n",
    "\n",
    "    # 7. Track metrics\n",
    "    epoch_count.append(epoch)\n",
    "    loss_values.append(loss)\n",
    "    test_loss_values.append(test_loss)\n",
    "\n",
    "    print(f\"Loss: {loss}\")\n"
   ]
  },
  {
   "cell_type": "code",
   "execution_count": 16,
   "metadata": {},
   "outputs": [
    {
     "data": {
      "text/plain": [
       "OrderedDict([('weights', tensor([0.7983])), ('bias', tensor([0.5092]))])"
      ]
     },
     "execution_count": 16,
     "metadata": {},
     "output_type": "execute_result"
    }
   ],
   "source": [
    "model_0.state_dict()\n"
   ]
  },
  {
   "cell_type": "code",
   "execution_count": 17,
   "metadata": {},
   "outputs": [],
   "source": [
    "with torch.inference_mode():\n",
    "    y_preds_new = model_0(X_test)"
   ]
  },
  {
   "cell_type": "code",
   "execution_count": 18,
   "metadata": {},
   "outputs": [
    {
     "data": {
      "image/png": "[encoded data removed]",
      "text/plain": [
       "<Figure size 1000x700 with 1 Axes>"
      ]
     },
     "metadata": {},
     "output_type": "display_data"
    }
   ],
   "source": [
    "plot_predictions(predictions=y_preds)"
   ]
  },
  {
   "cell_type": "code",
   "execution_count": 19,
   "metadata": {},
   "outputs": [
    {
     "data": {
      "image/png": "[encoded data removed]",
      "text/plain": [
       "<Figure size 1000x700 with 1 Axes>"
      ]
     },
     "metadata": {},
     "output_type": "display_data"
    },
    {
     "name": "stdout",
     "output_type": "stream",
     "text": [
      "OrderedDict({'weights': tensor([0.7983]), 'bias': tensor([0.5092])})\n",
      "Parameter containing:\n",
      "tensor([0.7983], requires_grad=True) Parameter containing:\n",
      "tensor([0.5092], requires_grad=True)\n"
     ]
    }
   ],
   "source": [
    "plot_predictions(predictions=y_preds_new)\n",
    "print(model_0.state_dict())\n",
    "print(list(model_0.parameters())[0], list(model_0.parameters())[1])\n"
   ]
  },
  {
   "cell_type": "markdown",
   "metadata": {},
   "source": [
    "## Plot the loss curves\n",
    "### plt.plot accepts only numpy arrays"
   ]
  },
  {
   "cell_type": "code",
   "execution_count": 20,
   "metadata": {},
   "outputs": [
    {
     "data": {
      "image/png": "[encoded data removed]",
      "text/plain": [
       "<Figure size 640x480 with 1 Axes>"
      ]
     },
     "metadata": {},
     "output_type": "display_data"
    }
   ],
   "source": [
    "plt.plot(epoch_count, np.array(torch.tensor(loss_values).numpy()), label='Train loss'   )\n",
    "plt.plot(epoch_count, np.array(torch.tensor(test_loss_values).numpy()), label='Test loss')\n",
    "plt.title('Training and testing loss curves')\n",
    "plt.ylabel('Loss')\n",
    "plt.xlabel('Epochs')\n",
    "plt.legend()\n",
    "plt.show()\n"
   ]
  },
  {
   "cell_type": "markdown",
   "metadata": {},
   "source": [
    "# Saving model in Pytorch\n",
    "`torch.save()` - save Pytorch objects in Python's pickle format\n",
    "\n",
    "`torch.load()` - allows to load a saved Pytorch object\n",
    "\n",
    "`torch.nn.Module.load_state_dict()` - load a model's saved state dictionary\n",
    "\n",
    "\n",
    "\n",
    "\n"
   ]
  },
  {
   "cell_type": "code",
   "execution_count": 21,
   "metadata": {},
   "outputs": [
    {
     "name": "stdout",
     "output_type": "stream",
     "text": [
      "Saving model to: models/01_pytorch_workflow_model_0.pth\n"
     ]
    }
   ],
   "source": [
    "from pathlib import Path\n",
    "\n",
    "# 1. Create models directory\n",
    "MODEL_PATH = Path(\"models\")\n",
    "MODEL_PATH.mkdir(parents=True, exist_ok=True) \n",
    "# parents=True: create parent directories if they don't exist, \n",
    "# exist_ok=True: if the directory already exists, don't raise an error\n",
    "\n",
    "# 2. Create model save path\n",
    "MODEL_NAME = \"01_pytorch_workflow_model_0.pth\"\n",
    "MODEL_SAVE_PATH = MODEL_PATH / MODEL_NAME\n",
    "\n",
    "# 3. Save the model state dict\n",
    "print(f\"Saving model to: {MODEL_SAVE_PATH}\")\n",
    "torch.save(obj=model_0.state_dict(), f=MODEL_SAVE_PATH) \n",
    "# obj: the object to save, \n",
    "# f: the file path to save the object to\n",
    "\n"
   ]
  },
  {
   "cell_type": "markdown",
   "metadata": {},
   "source": [
    "## Loading a model in Pytorch\n",
    "\n"
   ]
  },
  {
   "cell_type": "code",
   "execution_count": 22,
   "metadata": {},
   "outputs": [
    {
     "name": "stderr",
     "output_type": "stream",
     "text": [
      "/tmp/ipykernel_53908/2805687165.py:3: FutureWarning: You are using `torch.load` with `weights_only=False` (the current default value), which uses the default pickle module implicitly. It is possible to construct malicious pickle data which will execute arbitrary code during unpickling (See https://github.com/pytorch/pytorch/blob/main/SECURITY.md#untrusted-models for more details). In a future release, the default value for `weights_only` will be flipped to `True`. This limits the functions that could be executed during unpickling. Arbitrary objects will no longer be allowed to be loaded via this mode unless they are explicitly allowlisted by the user via `torch.serialization.add_safe_globals`. We recommend you start setting `weights_only=True` for any use case where you don't have full control of the loaded file. Please open an issue on GitHub for any issues related to this experimental feature.\n",
      "  loaded_model_0.load_state_dict(torch.load(f=MODEL_SAVE_PATH))\n"
     ]
    },
    {
     "data": {
      "image/png": "[encoded data removed]",
      "text/plain": [
       "<Figure size 1000x700 with 1 Axes>"
      ]
     },
     "metadata": {},
     "output_type": "display_data"
    }
   ],
   "source": [
    "\n",
    "# Loading a model in Pytorch\n",
    "loaded_model_0 = LinearRegressionModel()\n",
    "loaded_model_0.load_state_dict(torch.load(f=MODEL_SAVE_PATH))\n",
    "loaded_model_0.state_dict()\n",
    "\n",
    "# Making predictions using a loaded model\n",
    "with torch.inference_mode():\n",
    "    loaded_model_0.eval()\n",
    "    loaded_model_preds = loaded_model_0(X_test)\n",
    "\n",
    "plot_predictions(predictions=loaded_model_preds)\n"
   ]
  },
  {
   "cell_type": "markdown",
   "metadata": {},
   "source": [
    "# PUTTING IT ALL TOGETHER"
   ]
  },
  {
   "cell_type": "code",
   "execution_count": 23,
   "metadata": {},
   "outputs": [
    {
     "data": {
      "text/plain": [
       "'2.5.1+cu124'"
      ]
     },
     "execution_count": 23,
     "metadata": {},
     "output_type": "execute_result"
    }
   ],
   "source": [
    "import torch\n",
    "from torch import nn\n",
    "import matplotlib.pyplot as plt\n",
    "torch.__version__"
   ]
  },
  {
   "cell_type": "code",
   "execution_count": 24,
   "metadata": {},
   "outputs": [
    {
     "name": "stdout",
     "output_type": "stream",
     "text": [
      "Using device: cuda\n"
     ]
    }
   ],
   "source": [
    "device = \"cuda\" if torch.cuda.is_available() else \"cpu\"\n",
    "print(f\"Using device: {device}\")\n"
   ]
  },
  {
   "cell_type": "code",
   "execution_count": 25,
   "metadata": {},
   "outputs": [
    {
     "name": "stdout",
     "output_type": "stream",
     "text": [
      "tensor([[0.0000],\n",
      "        [0.0200],\n",
      "        [0.0400],\n",
      "        [0.0600],\n",
      "        [0.0800],\n",
      "        [0.1000],\n",
      "        [0.1200],\n",
      "        [0.1400],\n",
      "        [0.1600],\n",
      "        [0.1800]]) tensor([[0.2000],\n",
      "        [0.2020],\n",
      "        [0.2040],\n",
      "        [0.2060],\n",
      "        [0.2080],\n",
      "        [0.2100],\n",
      "        [0.2120],\n",
      "        [0.2140],\n",
      "        [0.2160],\n",
      "        [0.2180]])\n"
     ]
    }
   ],
   "source": [
    "# Create data using linear regression formula\n",
    "weight = 0.1\n",
    "bias = 0.2\n",
    "start = 0\n",
    "end = 1\n",
    "step = 0.02\n",
    "X = torch.arange(start, end, step).unsqueeze(dim=1)\n",
    "# without unsqueeze, it's a tensor of shape (100,)\n",
    "y = weight * X + bias\n",
    "print(X[:10], y[:10])\n",
    "\n"
   ]
  },
  {
   "cell_type": "code",
   "execution_count": 26,
   "metadata": {},
   "outputs": [
    {
     "data": {
      "text/plain": [
       "(40, 40, 10, 10)"
      ]
     },
     "execution_count": 26,
     "metadata": {},
     "output_type": "execute_result"
    }
   ],
   "source": [
    "#split data into training and testing\n",
    "train_split = int(0.8 * len(X))\n",
    "X_train, y_train = X[:train_split], y[:train_split]\n",
    "X_test, y_test = X[train_split:], y[train_split:]\n",
    "\n",
    "len(X_train), len(y_train), len(X_test), len(y_test)"
   ]
  },
  {
   "cell_type": "code",
   "execution_count": 27,
   "metadata": {},
   "outputs": [
    {
     "data": {
      "image/png": "[encoded data removed]",
      "text/plain": [
       "<Figure size 1000x700 with 1 Axes>"
      ]
     },
     "metadata": {},
     "output_type": "display_data"
    }
   ],
   "source": [
    "# Plot the data, error matplotlib not charged\n",
    "plot_predictions(X_train, y_train, X_test, y_test)\n"
   ]
  },
  {
   "cell_type": "code",
   "execution_count": 28,
   "metadata": {},
   "outputs": [
    {
     "data": {
      "text/plain": [
       "(LinearRegressionModelV2(\n",
       "   (linear_layer): Linear(in_features=1, out_features=1, bias=True)\n",
       " ),\n",
       " OrderedDict([('linear_layer.weight', tensor([[0.7645]])),\n",
       "              ('linear_layer.bias', tensor([0.8300]))]))"
      ]
     },
     "execution_count": 28,
     "metadata": {},
     "output_type": "execute_result"
    }
   ],
   "source": [
    "from torch import nn\n",
    "\n",
    "class LinearRegressionModelV2(nn.Module):\n",
    "    def __init__(self):\n",
    "        super().__init__()\n",
    "        self.linear_layer = nn.Linear(in_features=1, \n",
    "                                    out_features=1)\n",
    "        # input of size 1, output of size 1\n",
    "\n",
    "    def forward(self, x: torch.Tensor) -> torch.Tensor:\n",
    "        return self.linear_layer(x)\n",
    "\n",
    "# set the random seed\n",
    "torch.manual_seed(42)\n",
    "model_1 = LinearRegressionModelV2()\n",
    "model_1, model_1.state_dict()\n",
    "\n",
    "\n",
    "\n"
   ]
  },
  {
   "cell_type": "markdown",
   "metadata": {},
   "source": [
    "## Check the device and switch to GPU if possible\n",
    "\n",
    "\n"
   ]
  },
  {
   "cell_type": "code",
   "execution_count": 29,
   "metadata": {},
   "outputs": [
    {
     "data": {
      "text/plain": [
       "device(type='cpu')"
      ]
     },
     "execution_count": 29,
     "metadata": {},
     "output_type": "execute_result"
    }
   ],
   "source": [
    "next(model_1.parameters()).device "
   ]
  },
  {
   "cell_type": "code",
   "execution_count": 30,
   "metadata": {},
   "outputs": [
    {
     "data": {
      "text/plain": [
       "device(type='cuda', index=0)"
      ]
     },
     "execution_count": 30,
     "metadata": {},
     "output_type": "execute_result"
    }
   ],
   "source": [
    "model_1.to(device)\n",
    "next(model_1.parameters()).device \n"
   ]
  },
  {
   "cell_type": "markdown",
   "metadata": {},
   "source": [
    "## Training\n",
    "### For training, we need:\n",
    "* Loss function\n",
    "* Optimizer\n",
    "* Training loop\n",
    "* Testing loop\n",
    "\n",
    "\n",
    "\n"
   ]
  },
  {
   "cell_type": "code",
   "execution_count": 31,
   "metadata": {},
   "outputs": [
    {
     "data": {
      "text/plain": [
       "OrderedDict([('linear_layer.weight', tensor([[0.7645]], device='cuda:0')),\n",
       "             ('linear_layer.bias', tensor([0.8300], device='cuda:0'))])"
      ]
     },
     "execution_count": 31,
     "metadata": {},
     "output_type": "execute_result"
    }
   ],
   "source": [
    "model_1.state_dict()"
   ]
  },
  {
   "cell_type": "code",
   "execution_count": 32,
   "metadata": {},
   "outputs": [],
   "source": [
    "# Setup loss function\n",
    "loss_fn = nn.L1Loss()\n",
    "\n",
    "# Setup optimizer\n",
    "optimizer = torch.optim.SGD(params=model_1.parameters(), lr=0.01)\n"
   ]
  },
  {
   "cell_type": "markdown",
   "metadata": {},
   "source": [
    "### Training loop"
   ]
  },
  {
   "cell_type": "code",
   "execution_count": 33,
   "metadata": {},
   "outputs": [
    {
     "name": "stdout",
     "output_type": "stream",
     "text": [
      "Epoch: 0 | Loss: 0.8891779184341431 | Test loss: 1.207976222038269\n",
      "Epoch: 10 | Loss: 0.7739680409431458 | Test loss: 1.0732663869857788\n",
      "Epoch: 20 | Loss: 0.6587581634521484 | Test loss: 0.9385566115379333\n",
      "Epoch: 30 | Loss: 0.5435482859611511 | Test loss: 0.8038467764854431\n",
      "Epoch: 40 | Loss: 0.4283384382724762 | Test loss: 0.6691369414329529\n",
      "Epoch: 50 | Loss: 0.3131285607814789 | Test loss: 0.5344271063804626\n",
      "Epoch: 60 | Loss: 0.19791868329048157 | Test loss: 0.39971718192100525\n",
      "Epoch: 70 | Loss: 0.10804491490125656 | Test loss: 0.28325483202934265\n",
      "Epoch: 80 | Loss: 0.07703547924757004 | Test loss: 0.21338318288326263\n",
      "Epoch: 90 | Loss: 0.0670076236128807 | Test loss: 0.17452800273895264\n",
      "Epoch: 100 | Loss: 0.062281813472509384 | Test loss: 0.15338250994682312\n",
      "Epoch: 110 | Loss: 0.05861920863389969 | Test loss: 0.140328511595726\n",
      "Epoch: 120 | Loss: 0.05512920767068863 | Test loss: 0.12930849194526672\n",
      "Epoch: 130 | Loss: 0.05166677385568619 | Test loss: 0.12034916877746582\n",
      "Epoch: 140 | Loss: 0.04823831841349602 | Test loss: 0.11207673698663712\n",
      "Epoch: 150 | Loss: 0.04479997977614403 | Test loss: 0.10380429029464722\n",
      "Epoch: 160 | Loss: 0.04136480391025543 | Test loss: 0.09621874243021011\n",
      "Epoch: 170 | Loss: 0.03793514892458916 | Test loss: 0.08794631063938141\n",
      "Epoch: 180 | Loss: 0.03449634462594986 | Test loss: 0.07967384159564972\n",
      "Epoch: 190 | Loss: 0.03106284700334072 | Test loss: 0.07208825647830963\n",
      "Epoch: 200 | Loss: 0.027631530538201332 | Test loss: 0.06381582468748093\n",
      "Epoch: 210 | Loss: 0.02419273369014263 | Test loss: 0.05554340034723282\n",
      "Epoch: 220 | Loss: 0.020760925486683846 | Test loss: 0.047957874834537506\n",
      "Epoch: 230 | Loss: 0.017327936366200447 | Test loss: 0.0396854467689991\n",
      "Epoch: 240 | Loss: 0.013889138586819172 | Test loss: 0.03141301870346069\n",
      "Epoch: 250 | Loss: 0.010459008626639843 | Test loss: 0.02382749319076538\n",
      "Epoch: 260 | Loss: 0.007024341728538275 | Test loss: 0.015555068850517273\n",
      "Epoch: 270 | Loss: 0.0035855453461408615 | Test loss: 0.00728263845667243\n",
      "Epoch: 280 | Loss: 0.0025669110473245382 | Test loss: 0.00826476514339447\n",
      "Epoch: 290 | Loss: 0.0025669110473245382 | Test loss: 0.00826476514339447\n",
      "Epoch: 300 | Loss: 0.0025669110473245382 | Test loss: 0.00826476514339447\n",
      "Epoch: 310 | Loss: 0.0025669110473245382 | Test loss: 0.00826476514339447\n",
      "Epoch: 320 | Loss: 0.0025669110473245382 | Test loss: 0.00826476514339447\n",
      "Epoch: 330 | Loss: 0.0025669110473245382 | Test loss: 0.00826476514339447\n",
      "Epoch: 340 | Loss: 0.0025669110473245382 | Test loss: 0.00826476514339447\n",
      "Epoch: 350 | Loss: 0.0025669110473245382 | Test loss: 0.00826476514339447\n",
      "Epoch: 360 | Loss: 0.0025669110473245382 | Test loss: 0.00826476514339447\n",
      "Epoch: 370 | Loss: 0.0025669110473245382 | Test loss: 0.00826476514339447\n",
      "Epoch: 380 | Loss: 0.0025669110473245382 | Test loss: 0.00826476514339447\n",
      "Epoch: 390 | Loss: 0.0025669110473245382 | Test loss: 0.00826476514339447\n",
      "Epoch: 400 | Loss: 0.0025669110473245382 | Test loss: 0.00826476514339447\n",
      "Epoch: 410 | Loss: 0.0025669110473245382 | Test loss: 0.00826476514339447\n",
      "Epoch: 420 | Loss: 0.0025669110473245382 | Test loss: 0.00826476514339447\n",
      "Epoch: 430 | Loss: 0.0025669110473245382 | Test loss: 0.00826476514339447\n",
      "Epoch: 440 | Loss: 0.0025669110473245382 | Test loss: 0.00826476514339447\n",
      "Epoch: 450 | Loss: 0.0025669110473245382 | Test loss: 0.00826476514339447\n",
      "Epoch: 460 | Loss: 0.0025669110473245382 | Test loss: 0.00826476514339447\n",
      "Epoch: 470 | Loss: 0.0025669110473245382 | Test loss: 0.00826476514339447\n",
      "Epoch: 480 | Loss: 0.0025669110473245382 | Test loss: 0.00826476514339447\n",
      "Epoch: 490 | Loss: 0.0025669110473245382 | Test loss: 0.00826476514339447\n",
      "Epoch: 500 | Loss: 0.0025669110473245382 | Test loss: 0.00826476514339447\n",
      "Epoch: 510 | Loss: 0.0025669110473245382 | Test loss: 0.00826476514339447\n",
      "Epoch: 520 | Loss: 0.0025669110473245382 | Test loss: 0.00826476514339447\n",
      "Epoch: 530 | Loss: 0.0025669110473245382 | Test loss: 0.00826476514339447\n",
      "Epoch: 540 | Loss: 0.0025669110473245382 | Test loss: 0.00826476514339447\n",
      "Epoch: 550 | Loss: 0.0025669110473245382 | Test loss: 0.00826476514339447\n",
      "Epoch: 560 | Loss: 0.0025669110473245382 | Test loss: 0.00826476514339447\n",
      "Epoch: 570 | Loss: 0.0025669110473245382 | Test loss: 0.00826476514339447\n",
      "Epoch: 580 | Loss: 0.0025669110473245382 | Test loss: 0.00826476514339447\n",
      "Epoch: 590 | Loss: 0.0025669110473245382 | Test loss: 0.00826476514339447\n",
      "Epoch: 600 | Loss: 0.0025669110473245382 | Test loss: 0.00826476514339447\n",
      "Epoch: 610 | Loss: 0.0025669110473245382 | Test loss: 0.00826476514339447\n",
      "Epoch: 620 | Loss: 0.0025669110473245382 | Test loss: 0.00826476514339447\n",
      "Epoch: 630 | Loss: 0.0025669110473245382 | Test loss: 0.00826476514339447\n",
      "Epoch: 640 | Loss: 0.0025669110473245382 | Test loss: 0.00826476514339447\n",
      "Epoch: 650 | Loss: 0.0025669110473245382 | Test loss: 0.00826476514339447\n",
      "Epoch: 660 | Loss: 0.0025669110473245382 | Test loss: 0.00826476514339447\n",
      "Epoch: 670 | Loss: 0.0025669110473245382 | Test loss: 0.00826476514339447\n",
      "Epoch: 680 | Loss: 0.0025669110473245382 | Test loss: 0.00826476514339447\n",
      "Epoch: 690 | Loss: 0.0025669110473245382 | Test loss: 0.00826476514339447\n",
      "Epoch: 700 | Loss: 0.0025669110473245382 | Test loss: 0.00826476514339447\n",
      "Epoch: 710 | Loss: 0.0025669110473245382 | Test loss: 0.00826476514339447\n",
      "Epoch: 720 | Loss: 0.0025669110473245382 | Test loss: 0.00826476514339447\n",
      "Epoch: 730 | Loss: 0.0025669110473245382 | Test loss: 0.00826476514339447\n",
      "Epoch: 740 | Loss: 0.0025669110473245382 | Test loss: 0.00826476514339447\n",
      "Epoch: 750 | Loss: 0.0025669110473245382 | Test loss: 0.00826476514339447\n",
      "Epoch: 760 | Loss: 0.0025669110473245382 | Test loss: 0.00826476514339447\n",
      "Epoch: 770 | Loss: 0.0025669110473245382 | Test loss: 0.00826476514339447\n",
      "Epoch: 780 | Loss: 0.0025669110473245382 | Test loss: 0.00826476514339447\n",
      "Epoch: 790 | Loss: 0.0025669110473245382 | Test loss: 0.00826476514339447\n",
      "Epoch: 800 | Loss: 0.0025669110473245382 | Test loss: 0.00826476514339447\n",
      "Epoch: 810 | Loss: 0.0025669110473245382 | Test loss: 0.00826476514339447\n",
      "Epoch: 820 | Loss: 0.0025669110473245382 | Test loss: 0.00826476514339447\n",
      "Epoch: 830 | Loss: 0.0025669110473245382 | Test loss: 0.00826476514339447\n",
      "Epoch: 840 | Loss: 0.0025669110473245382 | Test loss: 0.00826476514339447\n",
      "Epoch: 850 | Loss: 0.0025669110473245382 | Test loss: 0.00826476514339447\n",
      "Epoch: 860 | Loss: 0.0025669110473245382 | Test loss: 0.00826476514339447\n",
      "Epoch: 870 | Loss: 0.0025669110473245382 | Test loss: 0.00826476514339447\n",
      "Epoch: 880 | Loss: 0.0025669110473245382 | Test loss: 0.00826476514339447\n",
      "Epoch: 890 | Loss: 0.0025669110473245382 | Test loss: 0.00826476514339447\n",
      "Epoch: 900 | Loss: 0.0025669110473245382 | Test loss: 0.00826476514339447\n",
      "Epoch: 910 | Loss: 0.0025669110473245382 | Test loss: 0.00826476514339447\n",
      "Epoch: 920 | Loss: 0.0025669110473245382 | Test loss: 0.00826476514339447\n",
      "Epoch: 930 | Loss: 0.0025669110473245382 | Test loss: 0.00826476514339447\n",
      "Epoch: 940 | Loss: 0.0025669110473245382 | Test loss: 0.00826476514339447\n",
      "Epoch: 950 | Loss: 0.0025669110473245382 | Test loss: 0.00826476514339447\n",
      "Epoch: 960 | Loss: 0.0025669110473245382 | Test loss: 0.00826476514339447\n",
      "Epoch: 970 | Loss: 0.0025669110473245382 | Test loss: 0.00826476514339447\n",
      "Epoch: 980 | Loss: 0.0025669110473245382 | Test loss: 0.00826476514339447\n",
      "Epoch: 990 | Loss: 0.0025669110473245382 | Test loss: 0.00826476514339447\n"
     ]
    }
   ],
   "source": [
    "torch.manual_seed(42)\n",
    "epochs = 1000\n",
    "\n",
    "# Put data on the device data (GPU)\n",
    "X_train = X_train.to(device)\n",
    "y_train = y_train.to(device)\n",
    "X_test = X_test.to(device)\n",
    "y_test = y_test.to(device)\n",
    "\n",
    "for epoch in range(epochs):\n",
    "    model_1.train()\n",
    "    \n",
    "    #1. Forward pass\n",
    "    y_pred = model_1(X_train)\n",
    "\n",
    "    #2. Calculate loss\n",
    "    loss = loss_fn(y_pred, y_train)\n",
    "\n",
    "    #3. Optimizer zero grad\n",
    "    optimizer.zero_grad()\n",
    "\n",
    "    #4. Perform backpropagation\n",
    "    loss.backward()\n",
    "\n",
    "    #5. Optimizer step\n",
    "    optimizer.step()\n",
    "\n",
    "    ### Testing\n",
    "    model_1.eval() # put the model in evaluation mode\n",
    "    with torch.inference_mode():\n",
    "        test_pred = model_1(X_test)\n",
    "        test_loss = loss_fn(test_pred, y_test)\n",
    "\n",
    "    # Print out what's happening\n",
    "    if epoch % 10 == 0: \n",
    "        print(f\"Epoch: {epoch} | Loss: {loss} | Test loss: {test_loss}\")\n",
    "\n"
   ]
  },
  {
   "cell_type": "markdown",
   "metadata": {},
   "source": [
    "### Check the state dictionary"
   ]
  },
  {
   "cell_type": "code",
   "execution_count": 34,
   "metadata": {},
   "outputs": [
    {
     "data": {
      "text/plain": [
       "OrderedDict([('linear_layer.weight', tensor([[0.1053]], device='cuda:0')),\n",
       "             ('linear_layer.bias', tensor([0.2005], device='cuda:0'))])"
      ]
     },
     "execution_count": 34,
     "metadata": {},
     "output_type": "execute_result"
    }
   ],
   "source": [
    "model_1.state_dict()\n"
   ]
  },
  {
   "cell_type": "code",
   "execution_count": 35,
   "metadata": {},
   "outputs": [
    {
     "data": {
      "text/plain": [
       "(0.1, 0.2)"
      ]
     },
     "execution_count": 35,
     "metadata": {},
     "output_type": "execute_result"
    }
   ],
   "source": [
    "weight, bias"
   ]
  },
  {
   "cell_type": "markdown",
   "metadata": {},
   "source": [
    "### Making and evaluating predictions"
   ]
  },
  {
   "cell_type": "code",
   "execution_count": 36,
   "metadata": {},
   "outputs": [
    {
     "data": {
      "text/plain": [
       "tensor([[0.2847],\n",
       "        [0.2868],\n",
       "        [0.2889],\n",
       "        [0.2910],\n",
       "        [0.2932],\n",
       "        [0.2953],\n",
       "        [0.2974],\n",
       "        [0.2995],\n",
       "        [0.3016],\n",
       "        [0.3037]], device='cuda:0')"
      ]
     },
     "execution_count": 36,
     "metadata": {},
     "output_type": "execute_result"
    }
   ],
   "source": [
    "# Turn model into evaluation mode\n",
    "model_1.eval()\n",
    "\n",
    "# Make predictions\n",
    "with torch.inference_mode():\n",
    "    y_preds = model_1(X_test)\n",
    "\n",
    "y_preds # predictions are on GPU, take care\n",
    "\n",
    "\n"
   ]
  },
  {
   "cell_type": "code",
   "execution_count": 37,
   "metadata": {},
   "outputs": [
    {
     "name": "stdout",
     "output_type": "stream",
     "text": [
      "tensor([[0.2847],\n",
      "        [0.2868],\n",
      "        [0.2889],\n",
      "        [0.2910],\n",
      "        [0.2932],\n",
      "        [0.2953],\n",
      "        [0.2974],\n",
      "        [0.2995],\n",
      "        [0.3016],\n",
      "        [0.3037]], device='cuda:0')\n"
     ]
    }
   ],
   "source": [
    "y_preds.shape\n",
    "print(y_preds)"
   ]
  },
  {
   "cell_type": "markdown",
   "metadata": {},
   "source": [
    "# Check out our model predictions visually"
   ]
  },
  {
   "cell_type": "code",
   "execution_count": 38,
   "metadata": {},
   "outputs": [
    {
     "data": {
      "image/png": "[encoded data removed]",
      "text/plain": [
       "<Figure size 1000x700 with 1 Axes>"
      ]
     },
     "metadata": {},
     "output_type": "display_data"
    }
   ],
   "source": [
    "plot_predictions(predictions=y_preds.cpu())\n"
   ]
  },
  {
   "cell_type": "markdown",
   "metadata": {},
   "source": [
    "## Savind and loading a trained model"
   ]
  },
  {
   "cell_type": "code",
   "execution_count": 39,
   "metadata": {},
   "outputs": [
    {
     "name": "stdout",
     "output_type": "stream",
     "text": [
      "Saving model to: models/01_pytorch_workflow_model_1.pth\n"
     ]
    }
   ],
   "source": [
    "from pathlib import Path\n",
    "#1. Create models directory\n",
    "MODEL_PATH = Path(\"models\")\n",
    "MODEL_PATH.mkdir(parents=True, exist_ok=True)\n",
    "\n",
    "#2. Create model save path\n",
    "MODEL_NAME = \"01_pytorch_workflow_model_1.pth\"\n",
    "MODEL_SAVE_PATH = MODEL_PATH / MODEL_NAME\n",
    "\n",
    "#3. Save the model state dict\n",
    "print(f\"Saving model to: {MODEL_SAVE_PATH}\")\n",
    "torch.save(obj=model_1.state_dict(), f=MODEL_SAVE_PATH)\n"
   ]
  },
  {
   "cell_type": "markdown",
   "metadata": {},
   "source": [
    "### Loading a saved model\n",
    "\n",
    "\n"
   ]
  },
  {
   "cell_type": "code",
   "execution_count": 40,
   "metadata": {},
   "outputs": [
    {
     "name": "stderr",
     "output_type": "stream",
     "text": [
      "/tmp/ipykernel_53908/652694881.py:5: FutureWarning: You are using `torch.load` with `weights_only=False` (the current default value), which uses the default pickle module implicitly. It is possible to construct malicious pickle data which will execute arbitrary code during unpickling (See https://github.com/pytorch/pytorch/blob/main/SECURITY.md#untrusted-models for more details). In a future release, the default value for `weights_only` will be flipped to `True`. This limits the functions that could be executed during unpickling. Arbitrary objects will no longer be allowed to be loaded via this mode unless they are explicitly allowlisted by the user via `torch.serialization.add_safe_globals`. We recommend you start setting `weights_only=True` for any use case where you don't have full control of the loaded file. Please open an issue on GitHub for any issues related to this experimental feature.\n",
      "  loaded_model_1.load_state_dict(torch.load(MODEL_SAVE_PATH))\n"
     ]
    },
    {
     "data": {
      "text/plain": [
       "LinearRegressionModelV2(\n",
       "  (linear_layer): Linear(in_features=1, out_features=1, bias=True)\n",
       ")"
      ]
     },
     "execution_count": 40,
     "metadata": {},
     "output_type": "execute_result"
    }
   ],
   "source": [
    "#1. Create a new instance of the linear regression model class\n",
    "loaded_model_1 = LinearRegressionModelV2()\n",
    "\n",
    "#2. Load the saved model state dict\n",
    "loaded_model_1.load_state_dict(torch.load(MODEL_SAVE_PATH))\n",
    "\n",
    "#3. Put the loaded model to device\n",
    "loaded_model_1.to(device)"
   ]
  },
  {
   "cell_type": "code",
   "execution_count": 41,
   "metadata": {},
   "outputs": [
    {
     "data": {
      "text/plain": [
       "device(type='cuda', index=0)"
      ]
     },
     "execution_count": 41,
     "metadata": {},
     "output_type": "execute_result"
    }
   ],
   "source": [
    "next(loaded_model_1.parameters()).device"
   ]
  },
  {
   "cell_type": "code",
   "execution_count": 42,
   "metadata": {},
   "outputs": [
    {
     "data": {
      "text/plain": [
       "OrderedDict([('linear_layer.weight', tensor([[0.1053]], device='cuda:0')),\n",
       "             ('linear_layer.bias', tensor([0.2005], device='cuda:0'))])"
      ]
     },
     "execution_count": 42,
     "metadata": {},
     "output_type": "execute_result"
    }
   ],
   "source": [
    "loaded_model_1.state_dict()"
   ]
  },
  {
   "cell_type": "markdown",
   "metadata": {},
   "source": [
    "## Evaluate the loaded model"
   ]
  },
  {
   "cell_type": "code",
   "execution_count": 43,
   "metadata": {},
   "outputs": [
    {
     "data": {
      "image/png": "[encoded data removed]",
      "text/plain": [
       "<Figure size 1000x700 with 1 Axes>"
      ]
     },
     "metadata": {},
     "output_type": "display_data"
    }
   ],
   "source": [
    "loaded_model_1.eval()\n",
    "with torch.inference_mode():\n",
    "    loaded_model_preds = loaded_model_1(X_test)\n",
    "\n",
    "plot_predictions(predictions=loaded_model_preds.cpu())\n",
    "\n"
   ]
  },
  {
   "cell_type": "code",
   "execution_count": null,
   "metadata": {},
   "outputs": [],
   "source": []
  }
 ],
 "metadata": {
  "kernelspec": {
   "display_name": "myenv",
   "language": "python",
   "name": "python3"
  },
  "language_info": {
   "codemirror_mode": {
    "name": "ipython",
    "version": 3
   },
   "file_extension": ".py",
   "mimetype": "text/x-python",
   "name": "python",
   "nbconvert_exporter": "python",
   "pygments_lexer": "ipython3",
   "version": "3.13.1"
  }
 },
 "nbformat": 4,
 "nbformat_minor": 2
}
