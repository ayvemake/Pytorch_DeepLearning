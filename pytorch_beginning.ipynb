{
 "cells": [
  {
   "cell_type": "markdown",
   "id": "ea0b19f8",
   "metadata": {},
   "source": [
    "PYTORCH WORK"
   ]
  },
  {
   "cell_type": "markdown",
   "id": "7b14be60",
   "metadata": {},
   "source": [
    "CUDA AND PYTORCH INITIALIZATION"
   ]
  },
  {
   "cell_type": "code",
   "execution_count": 1,
   "id": "db9a8300",
   "metadata": {},
   "outputs": [
    {
     "name": "stdout",
     "output_type": "stream",
     "text": [
      "True\n",
      "NVIDIA GeForce RTX 3050 Ti Laptop GPU\n"
     ]
    }
   ],
   "source": [
    "import torch\n",
    "print(torch.cuda.is_available())  # Devrait retourner True\n",
    "print(torch.cuda.get_device_name(0))  # Nom de ton GPU"
   ]
  },
  {
   "cell_type": "code",
   "execution_count": 2,
   "id": "0118cf75",
   "metadata": {},
   "outputs": [
    {
     "name": "stdout",
     "output_type": "stream",
     "text": [
      "tensor([[0.1082, 0.2257, 0.5090],\n",
      "        [0.3079, 0.7245, 0.9577],\n",
      "        [0.9395, 0.8167, 0.1937]], device='cuda:0')\n"
     ]
    }
   ],
   "source": [
    "# Vérifie que CUDA est disponible\n",
    "if torch.cuda.is_available():\n",
    "    device = torch.device('cuda')  # GPU\n",
    "else:\n",
    "    device = torch.device('cpu')  # Si le GPU n'est pas disponible\n",
    "\n",
    "# Exemple avec un tensor\n",
    "x = torch.rand(3, 3)\n",
    "x = x.to(device)  # Déplace le tensor vers le GPU ou CPU\n",
    "\n",
    "print(x)"
   ]
  },
  {
   "cell_type": "code",
   "execution_count": 4,
   "id": "e02aa0a6",
   "metadata": {},
   "outputs": [
    {
     "name": "stdout",
     "output_type": "stream",
     "text": [
      "2.5.1+cu124\n"
     ]
    }
   ],
   "source": [
    "import pandas as pd\n",
    "import numpy as np\n",
    "import matplotlib.pyplot as plt\n",
    "print(torch.__version__)"
   ]
  },
  {
   "cell_type": "markdown",
   "id": "898aceea",
   "metadata": {},
   "source": [
    "## TENSORS\n",
    "### creating tensors"
   ]
  },
  {
   "cell_type": "code",
   "execution_count": 6,
   "id": "3d58be9c",
   "metadata": {},
   "outputs": [
    {
     "name": "stdout",
     "output_type": "stream",
     "text": [
      "tensor(12)\n",
      "0\n"
     ]
    }
   ],
   "source": [
    "scalar = torch.tensor(12)\n",
    "print(scalar)\n",
    "print(scalar.ndim)\n"
   ]
  },
  {
   "cell_type": "code",
   "execution_count": 7,
   "id": "234cf3dc",
   "metadata": {},
   "outputs": [
    {
     "data": {
      "text/plain": [
       "12"
      ]
     },
     "execution_count": 7,
     "metadata": {},
     "output_type": "execute_result"
    }
   ],
   "source": [
    "scalar.item()"
   ]
  },
  {
   "cell_type": "code",
   "execution_count": 10,
   "id": "15378e62",
   "metadata": {},
   "outputs": [
    {
     "name": "stdout",
     "output_type": "stream",
     "text": [
      "tensor([12, 12])\n",
      "1\n"
     ]
    },
    {
     "data": {
      "text/plain": [
       "torch.Size([2])"
      ]
     },
     "execution_count": 10,
     "metadata": {},
     "output_type": "execute_result"
    }
   ],
   "source": [
    "vector = torch.tensor([12, 12])\n",
    "print(vector)\n",
    "print(vector.ndim)\n",
    "vector.shape\n",
    "\n"
   ]
  },
  {
   "cell_type": "code",
   "execution_count": 11,
   "id": "fa8f7846",
   "metadata": {},
   "outputs": [
    {
     "name": "stdout",
     "output_type": "stream",
     "text": [
      "tensor([[4, 3],\n",
      "        [2, 1]])\n",
      "2\n"
     ]
    },
    {
     "data": {
      "text/plain": [
       "torch.Size([2, 2])"
      ]
     },
     "execution_count": 11,
     "metadata": {},
     "output_type": "execute_result"
    }
   ],
   "source": [
    "matrix = torch.tensor([[4,3], \n",
    "                       [2,1]])\n",
    "print(matrix)\n",
    "print(matrix.ndim)\n",
    "matrix.shape\n",
    "\n"
   ]
  },
  {
   "cell_type": "markdown",
   "id": "5e62ab18",
   "metadata": {},
   "source": [
    "## RANDOM TENSORS"
   ]
  },
  {
   "cell_type": "code",
   "execution_count": 12,
   "id": "534bcc29",
   "metadata": {},
   "outputs": [
    {
     "name": "stdout",
     "output_type": "stream",
     "text": [
      "tensor([[0.0027, 0.4259, 0.1767, 0.3713, 0.2109],\n",
      "        [0.1194, 0.7667, 0.9945, 0.1241, 0.9096],\n",
      "        [0.3226, 0.9836, 0.6194, 0.6321, 0.7991]])\n",
      "2\n",
      "torch.Size([3, 5])\n",
      "tensor([[0., 0., 0.],\n",
      "        [0., 0., 0.]])\n",
      "2\n",
      "torch.Size([2, 3])\n",
      "tensor([[1., 1., 1.],\n",
      "        [1., 1., 1.]])\n",
      "2\n",
      "torch.Size([2, 3])\n"
     ]
    }
   ],
   "source": [
    "random_tensor = torch.rand(3,5)\n",
    "print(random_tensor)\n",
    "print(random_tensor.ndim)\n",
    "print(random_tensor.shape)\n",
    "\n",
    "\n",
    "## ZEROS AND ONES\n",
    "zeros = torch.zeros(2,3)\n",
    "print(zeros)\n",
    "print(zeros.ndim)\n",
    "print(zeros.shape)\n",
    "\n",
    "ones = torch.ones(2,3)\n",
    "print(ones)\n",
    "print(ones.ndim)\n",
    "print(ones.shape)\n",
    "\n",
    "## TENSOR OPERATIONS\n",
    "\n",
    "\n"
   ]
  },
  {
   "cell_type": "code",
   "execution_count": 13,
   "id": "a8a725df",
   "metadata": {},
   "outputs": [
    {
     "name": "stdout",
     "output_type": "stream",
     "text": [
      "tensor([[[0.6101, 0.6600, 0.1328,  ..., 0.1902, 0.0609, 0.8602],\n",
      "         [0.7451, 0.3262, 0.0250,  ..., 0.7940, 0.6111, 0.2945],\n",
      "         [0.3550, 0.3776, 0.7982,  ..., 0.5674, 0.9564, 0.7708],\n",
      "         ...,\n",
      "         [0.1148, 0.6004, 0.0341,  ..., 0.6472, 0.6589, 0.6443],\n",
      "         [0.2476, 0.6187, 0.1304,  ..., 0.7778, 0.6982, 0.7814],\n",
      "         [0.9725, 0.1628, 0.1754,  ..., 0.2343, 0.3057, 0.4677]],\n",
      "\n",
      "        [[0.4649, 0.4380, 0.0116,  ..., 0.9857, 0.7679, 0.7543],\n",
      "         [0.1780, 0.1803, 0.8444,  ..., 0.9938, 0.4304, 0.2466],\n",
      "         [0.1861, 0.9425, 0.1161,  ..., 0.1125, 0.8358, 0.1518],\n",
      "         ...,\n",
      "         [0.0523, 0.7671, 0.2689,  ..., 0.6467, 0.2494, 0.4699],\n",
      "         [0.0528, 0.7754, 0.7939,  ..., 0.7166, 0.5513, 0.4353],\n",
      "         [0.7865, 0.3851, 0.1825,  ..., 0.0556, 0.0776, 0.1481]],\n",
      "\n",
      "        [[0.5494, 0.7666, 0.4288,  ..., 0.8562, 0.4997, 0.2907],\n",
      "         [0.7441, 0.8013, 0.4873,  ..., 0.1107, 0.1015, 0.5558],\n",
      "         [0.1546, 0.3315, 0.0381,  ..., 0.0769, 0.1964, 0.8989],\n",
      "         ...,\n",
      "         [0.5076, 0.4184, 0.1427,  ..., 0.2812, 0.8727, 0.2393],\n",
      "         [0.9583, 0.9828, 0.2447,  ..., 0.4542, 0.6197, 0.2984],\n",
      "         [0.3914, 0.5456, 0.7297,  ..., 0.9287, 0.1353, 0.0614]]])\n",
      "3\n",
      "torch.Size([3, 224, 224])\n"
     ]
    }
   ],
   "source": [
    "random_image_size_tensor = torch.rand(3, 224, 224)\n",
    "print(random_image_size_tensor)\n",
    "print(random_image_size_tensor.ndim)\n",
    "print(random_image_size_tensor.shape)\n",
    "\n"
   ]
  },
  {
   "cell_type": "code",
   "execution_count": 14,
   "id": "0622d0d6",
   "metadata": {},
   "outputs": [
    {
     "data": {
      "text/plain": [
       "torch.float32"
      ]
     },
     "execution_count": 14,
     "metadata": {},
     "output_type": "execute_result"
    }
   ],
   "source": [
    "random_image_size_tensor.dtype"
   ]
  },
  {
   "cell_type": "markdown",
   "id": "1c9f84bc",
   "metadata": {},
   "source": [
    "## RANGE OF TENSORS"
   ]
  },
  {
   "cell_type": "code",
   "execution_count": 22,
   "id": "acd30c43",
   "metadata": {},
   "outputs": [
    {
     "name": "stdout",
     "output_type": "stream",
     "text": [
      "tensor([ 0,  1,  2,  3,  4,  5,  6,  7,  8,  9, 10, 11, 12, 13, 14, 15, 16, 17,\n",
      "        18, 19])\n",
      "tensor([ 1,  2,  3,  4,  5,  6,  7,  8,  9, 10, 11, 12, 13, 14, 15, 16, 17, 18,\n",
      "        19, 20])\n"
     ]
    },
    {
     "data": {
      "text/plain": [
       "tensor([0, 0, 0, 0, 0, 0, 0, 0, 0, 0, 0, 0, 0, 0, 0, 0, 0, 0, 0, 0])"
      ]
     },
     "execution_count": 22,
     "metadata": {},
     "output_type": "execute_result"
    }
   ],
   "source": [
    "one_to_twenty_a =torch.arange(0,20) #range from 1 to 21\n",
    "print(one_to_twenty_a)\n",
    "one_to_twenty_b = torch.arange(start=1, end=21, step=1)\n",
    "print(one_to_twenty_b)\n",
    "# do not forget -1 increment \n",
    "torch.zeros_like(one_to_twenty_a)\n",
    "\n",
    "\n"
   ]
  },
  {
   "cell_type": "code",
   "execution_count": 25,
   "id": "ad95f4a8",
   "metadata": {},
   "outputs": [
    {
     "name": "stdout",
     "output_type": "stream",
     "text": [
      "tensor([2.3000, 3.2000, 4.5000], device='cuda:0', requires_grad=True)\n",
      "1\n",
      "torch.Size([3])\n",
      "tensor([2.3008, 3.1992, 4.5000], device='cuda:0', dtype=torch.float16,\n",
      "       grad_fn=<ToCopyBackward0>)\n"
     ]
    }
   ],
   "source": [
    "float_tensor = torch.tensor([2.3, 3.2, 4.5], \n",
    "                            dtype=torch.float32, # by default is float32\n",
    "                            device=device, \n",
    "                            requires_grad=True)\n",
    "print(float_tensor)\n",
    "print(float_tensor.ndim)\n",
    "print(float_tensor.shape)\n",
    "\n",
    "float_16_tensor = float_tensor.to(torch.float16)\n",
    "print(float_16_tensor)\n",
    "\n",
    "\n",
    "\n"
   ]
  },
  {
   "cell_type": "code",
   "execution_count": 34,
   "id": "8ef17473",
   "metadata": {},
   "outputs": [
    {
     "name": "stdout",
     "output_type": "stream",
     "text": [
      "tensor([1, 2, 3], dtype=torch.int32)\n",
      "torch.int32\n",
      "tensor([1., 2., 3.])\n",
      "torch.float32\n",
      "torch.float32\n"
     ]
    }
   ],
   "source": [
    "#convert int32 to float32\n",
    "int_tensor = torch.tensor([1,2,3], dtype=torch.int32)\n",
    "print(int_tensor)\n",
    "print(int_tensor.dtype)\n",
    "\n",
    "int_to_float = int_tensor.to(torch.float32)\n",
    "print(int_to_float)\n",
    "print(int_to_float.dtype)\n",
    "\n",
    "mixed_tensor = int_tensor*int_to_float\n",
    "print(mixed_tensor.dtype)\n",
    "# .shape is an attribute, and .size is a function \n",
    "\n"
   ]
  },
  {
   "cell_type": "markdown",
   "id": "ad1a1921",
   "metadata": {},
   "source": [
    "## Tensors operations\n",
    "### addition, subtraction, multiplication, division, matrix multiplication"
   ]
  },
  {
   "cell_type": "code",
   "execution_count": 39,
   "id": "46791496",
   "metadata": {},
   "outputs": [
    {
     "name": "stdout",
     "output_type": "stream",
     "text": [
      "from tensor([1, 2, 3])\n",
      "tensor + 1: tensor([2, 3, 4])\n",
      "tensor - 1: tensor([0, 1, 2])\n",
      "tensor * 2: tensor([2, 4, 6])\n",
      "tensor / 2: tensor([0.5000, 1.0000, 1.5000])\n",
      "tensor * tensor: tensor([1, 4, 9])\n",
      "tensor / tensor: tensor([1., 1., 1.])\n"
     ]
    }
   ],
   "source": [
    "tensor = torch.tensor([1,2,3])\n",
    "print('from %s' % tensor)\n",
    "print('tensor + 1: %s' % (tensor + 1))\n",
    "print('tensor - 1: %s' % (tensor - 1))\n",
    "print('tensor * 2: %s' % (tensor * 2))\n",
    "print('tensor / 2: %s' % (tensor / 2))\n",
    "print('tensor * tensor: %s' % (tensor * tensor))\n",
    "print('tensor / tensor: %s' % (tensor / tensor))\n",
    "\n",
    "\n"
   ]
  },
  {
   "cell_type": "code",
   "execution_count": null,
   "id": "9ffebab1",
   "metadata": {},
   "outputs": [],
   "source": []
  }
 ],
 "metadata": {
  "kernelspec": {
   "display_name": "Python 3",
   "language": "python",
   "name": "python3"
  },
  "language_info": {
   "codemirror_mode": {
    "name": "ipython",
    "version": 3
   },
   "file_extension": ".py",
   "mimetype": "text/x-python",
   "name": "python",
   "nbconvert_exporter": "python",
   "pygments_lexer": "ipython3",
   "version": "3.13.1"
  }
 },
 "nbformat": 4,
 "nbformat_minor": 5
}
