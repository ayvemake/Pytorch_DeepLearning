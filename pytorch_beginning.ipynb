{
 "cells": [
  {
   "cell_type": "markdown",
   "id": "ea0b19f8",
   "metadata": {},
   "source": [
    "PYTORCH WORK"
   ]
  },
  {
   "cell_type": "markdown",
   "id": "7b14be60",
   "metadata": {},
   "source": [
    "CUDA AND PYTORCH INITIALIZATION"
   ]
  },
  {
   "cell_type": "code",
   "execution_count": 2,
   "id": "db9a8300",
   "metadata": {},
   "outputs": [
    {
     "name": "stdout",
     "output_type": "stream",
     "text": [
      "True\n",
      "NVIDIA GeForce RTX 3050 Ti Laptop GPU\n"
     ]
    }
   ],
   "source": [
    "import torch\n",
    "print(torch.cuda.is_available())  # Devrait retourner True\n",
    "print(torch.cuda.get_device_name(0))  # Nom de ton GPU"
   ]
  },
  {
   "cell_type": "code",
   "execution_count": 3,
   "id": "0118cf75",
   "metadata": {},
   "outputs": [
    {
     "name": "stdout",
     "output_type": "stream",
     "text": [
      "tensor([[0.2514, 0.1084, 0.0126],\n",
      "        [0.9810, 0.3127, 0.8999],\n",
      "        [0.9620, 0.0880, 0.0758]], device='cuda:0')\n"
     ]
    }
   ],
   "source": [
    "# Vérifie que CUDA est disponible\n",
    "if torch.cuda.is_available():\n",
    "    device = torch.device('cuda')  # GPU\n",
    "else:\n",
    "    device = torch.device('cpu')  # Si le GPU n'est pas disponible\n",
    "\n",
    "# Exemple avec un tensor\n",
    "x = torch.rand(3, 3)\n",
    "x = x.to(device)  # Déplace le tensor vers le GPU ou CPU\n",
    "\n",
    "print(x)"
   ]
  },
  {
   "cell_type": "code",
   "execution_count": null,
   "id": "e02aa0a6",
   "metadata": {},
   "outputs": [],
   "source": []
  },
  {
   "cell_type": "code",
   "execution_count": null,
   "id": "d7e529eb",
   "metadata": {},
   "outputs": [],
   "source": []
  }
 ],
 "metadata": {
  "kernelspec": {
   "display_name": "Python 3",
   "language": "python",
   "name": "python3"
  },
  "language_info": {
   "codemirror_mode": {
    "name": "ipython",
    "version": 3
   },
   "file_extension": ".py",
   "mimetype": "text/x-python",
   "name": "python",
   "nbconvert_exporter": "python",
   "pygments_lexer": "ipython3",
   "version": "3.13.1"
  }
 },
 "nbformat": 4,
 "nbformat_minor": 5
}
